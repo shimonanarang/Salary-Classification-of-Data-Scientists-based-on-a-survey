{
 "cells": [
  {
   "cell_type": "markdown",
   "metadata": {},
   "source": [
    "# Assignment 1\n",
    "In this notebook, I have analyzed the Machine Learning and Data Science survey with 23860 samples and 50 questions.\n",
    "\n",
    "This supervised machine learning classification problem has been done through logistic regression.\n",
    "Steps involved are: \n",
    "1. Cleaning data and exploring the answers through EDA \n",
    "2. Checking the feature importance\n",
    "3. Selection of features using Regression Technique\n",
    "3. Training the model through Logistic Regression\n",
    "4. Model and hyperparamter tuning\n",
    "\n",
    "The dataset for this problem is from a csv file 'multiChoiceResponses.csv'"
   ]
  },
  {
   "cell_type": "markdown",
   "metadata": {},
   "source": [
    "# Installing & Importing relevant libraries"
   ]
  },
  {
   "cell_type": "code",
   "execution_count": 101,
   "metadata": {},
   "outputs": [
    {
     "name": "stdout",
     "output_type": "stream",
     "text": [
      "Requirement already satisfied: mlxtend in /home/jupyterlab/conda/envs/python/lib/python3.6/site-packages (0.17.0)\n",
      "Requirement already satisfied: scikit-learn>=0.20.3 in /home/jupyterlab/conda/envs/python/lib/python3.6/site-packages (from mlxtend) (0.21.3)\n",
      "Requirement already satisfied: numpy>=1.16.2 in /home/jupyterlab/conda/envs/python/lib/python3.6/site-packages (from mlxtend) (1.17.3)\n",
      "Requirement already satisfied: matplotlib>=3.0.0 in /home/jupyterlab/conda/envs/python/lib/python3.6/site-packages (from mlxtend) (3.1.1)\n",
      "Requirement already satisfied: pandas>=0.24.2 in /home/jupyterlab/conda/envs/python/lib/python3.6/site-packages (from mlxtend) (0.25.2)\n",
      "Requirement already satisfied: scipy>=1.2.1 in /home/jupyterlab/conda/envs/python/lib/python3.6/site-packages (from mlxtend) (1.3.1)\n",
      "Requirement already satisfied: joblib>=0.13.2 in /home/jupyterlab/conda/envs/python/lib/python3.6/site-packages (from mlxtend) (0.14.0)\n",
      "Requirement already satisfied: setuptools in /home/jupyterlab/conda/envs/python/lib/python3.6/site-packages (from mlxtend) (41.4.0)\n",
      "Requirement already satisfied: python-dateutil>=2.1 in /home/jupyterlab/conda/envs/python/lib/python3.6/site-packages (from matplotlib>=3.0.0->mlxtend) (2.8.0)\n",
      "Requirement already satisfied: pyparsing!=2.0.4,!=2.1.2,!=2.1.6,>=2.0.1 in /home/jupyterlab/conda/envs/python/lib/python3.6/site-packages (from matplotlib>=3.0.0->mlxtend) (2.4.2)\n",
      "Requirement already satisfied: cycler>=0.10 in /home/jupyterlab/conda/envs/python/lib/python3.6/site-packages (from matplotlib>=3.0.0->mlxtend) (0.10.0)\n",
      "Requirement already satisfied: kiwisolver>=1.0.1 in /home/jupyterlab/conda/envs/python/lib/python3.6/site-packages (from matplotlib>=3.0.0->mlxtend) (1.1.0)\n",
      "Requirement already satisfied: pytz>=2017.2 in /home/jupyterlab/conda/envs/python/lib/python3.6/site-packages (from pandas>=0.24.2->mlxtend) (2019.3)\n",
      "Requirement already satisfied: six>=1.5 in /home/jupyterlab/conda/envs/python/lib/python3.6/site-packages (from python-dateutil>=2.1->matplotlib>=3.0.0->mlxtend) (1.12.0)\n"
     ]
    }
   ],
   "source": [
    "!pip install mlxtend"
   ]
  },
  {
   "cell_type": "code",
   "execution_count": 227,
   "metadata": {
    "colab": {},
    "colab_type": "code",
    "id": "kdlDnUvtamiR"
   },
   "outputs": [],
   "source": [
    "import pandas as pd\n",
    "import numpy as np\n",
    "import matplotlib.pyplot as plt\n",
    "from sklearn.preprocessing import LabelEncoder\n",
    "from sklearn import preprocessing\n",
    "from sklearn.impute import SimpleImputer\n",
    "import seaborn as sns\n",
    "from sklearn.model_selection import train_test_split\n",
    "from sklearn.preprocessing import StandardScaler\n",
    "from sklearn.linear_model import LogisticRegression\n",
    "from sklearn.metrics import make_scorer, confusion_matrix\n",
    "from sklearn.model_selection import KFold\n",
    "from sklearn.linear_model import Lasso\n",
    "from sklearn.exceptions import DataConversionWarning\n",
    "from sklearn.exceptions import ConvergenceWarning\n",
    "from sklearn import linear_model\n",
    "from sklearn.linear_model import LassoLarsCV\n",
    "from sklearn.datasets import make_regression\n",
    "from sklearn import linear_model\n",
    "from sklearn import metrics\n",
    "from sklearn.metrics import mean_squared_error as mse\n",
    "from mlxtend.plotting import plot_learning_curves"
   ]
  },
  {
   "cell_type": "code",
   "execution_count": null,
   "metadata": {},
   "outputs": [],
   "source": []
  },
  {
   "cell_type": "markdown",
   "metadata": {},
   "source": [
    "# Read survey data from given file"
   ]
  },
  {
   "cell_type": "code",
   "execution_count": 103,
   "metadata": {
    "colab": {
     "base_uri": "https://localhost:8080/",
     "height": 386
    },
    "colab_type": "code",
    "id": "vPnbv2sXamif",
    "outputId": "bf798031-bbbb-4f48-edca-a521f36a9940"
   },
   "outputs": [
    {
     "data": {
      "text/plain": [
       "I do not wish to disclose my approximate yearly compensation    4756\n",
       "0-10,000                                                        4398\n",
       "NaN                                                             3674\n",
       "10-20,000                                                       1937\n",
       "20-30,000                                                       1395\n",
       "30-40,000                                                       1119\n",
       "40-50,000                                                        965\n",
       "50-60,000                                                        919\n",
       "100-125,000                                                      843\n",
       "60-70,000                                                        729\n",
       "70-80,000                                                        677\n",
       "90-100,000                                                       566\n",
       "125-150,000                                                      533\n",
       "80-90,000                                                        506\n",
       "150-200,000                                                      457\n",
       "200-250,000                                                      172\n",
       "250-300,000                                                       75\n",
       "500,000+                                                          63\n",
       "300-400,000                                                       52\n",
       "400-500,000                                                       23\n",
       "What is your current yearly compensation (approximate $USD)?       1\n",
       "Name: Q9, dtype: int64"
      ]
     },
     "execution_count": 103,
     "metadata": {},
     "output_type": "execute_result"
    }
   ],
   "source": [
    "Salaries = pd.read_csv(\"multipleChoiceResponses.csv\", low_memory = False)\n",
    "\n",
    "# Analyse various classes of yearly compensation, which is the target value for the problem\n",
    "Salaries['Q9'].value_counts(dropna = False)"
   ]
  },
  {
   "cell_type": "code",
   "execution_count": 104,
   "metadata": {
    "colab": {},
    "colab_type": "code",
    "id": "GtqzFbnKamin"
   },
   "outputs": [],
   "source": [
    "# eliminate NaN values and 'I do not wish to disclose my approximate yearly compensation' rows from data\n",
    "Salaries.dropna(subset=['Q9'],inplace=True)\n",
    "Salaries = Salaries[Salaries['Q9']!= \"I do not wish to disclose my approximate yearly compensation\"]"
   ]
  },
  {
   "cell_type": "code",
   "execution_count": 105,
   "metadata": {
    "colab": {},
    "colab_type": "code",
    "id": "K4jyzrFFamis"
   },
   "outputs": [
    {
     "data": {
      "text/plain": [
       "(15430, 395)"
      ]
     },
     "execution_count": 105,
     "metadata": {},
     "output_type": "execute_result"
    }
   ],
   "source": [
    "Salaries.shape"
   ]
  },
  {
   "cell_type": "markdown",
   "metadata": {
    "colab": {
     "base_uri": "https://localhost:8080/",
     "height": 34
    },
    "colab_type": "code",
    "id": "7gXvfM7zamiy",
    "outputId": "c9a2cdcc-3268-4d8c-c5ac-fce7d120fb6a"
   },
   "source": [
    "We are left with 15430 rows, which needs to be re-indexed for easier reference"
   ]
  },
  {
   "cell_type": "code",
   "execution_count": 106,
   "metadata": {
    "colab": {},
    "colab_type": "code",
    "id": "rt5vE-G3ami2"
   },
   "outputs": [],
   "source": [
    "Salaries.loc[1:,'index'] = Salaries[1:].reset_index().index"
   ]
  },
  {
   "cell_type": "code",
   "execution_count": 107,
   "metadata": {
    "colab": {
     "base_uri": "https://localhost:8080/",
     "height": 714
    },
    "colab_type": "code",
    "id": "lXBdjRiBamjA",
    "outputId": "e1b064f4-1da8-4a29-c063-d487267afb28"
   },
   "outputs": [
    {
     "data": {
      "text/html": [
       "<div>\n",
       "<style scoped>\n",
       "    .dataframe tbody tr th:only-of-type {\n",
       "        vertical-align: middle;\n",
       "    }\n",
       "\n",
       "    .dataframe tbody tr th {\n",
       "        vertical-align: top;\n",
       "    }\n",
       "\n",
       "    .dataframe thead th {\n",
       "        text-align: right;\n",
       "    }\n",
       "</style>\n",
       "<table border=\"1\" class=\"dataframe\">\n",
       "  <thead>\n",
       "    <tr style=\"text-align: right;\">\n",
       "      <th></th>\n",
       "      <th>Time from Start to Finish (seconds)</th>\n",
       "      <th>Q1</th>\n",
       "      <th>Q1_OTHER_TEXT</th>\n",
       "      <th>Q2</th>\n",
       "      <th>Q3</th>\n",
       "      <th>Q4</th>\n",
       "      <th>Q5</th>\n",
       "      <th>Q6</th>\n",
       "      <th>Q6_OTHER_TEXT</th>\n",
       "      <th>Q7</th>\n",
       "      <th>...</th>\n",
       "      <th>Q50_Part_1</th>\n",
       "      <th>Q50_Part_2</th>\n",
       "      <th>Q50_Part_3</th>\n",
       "      <th>Q50_Part_4</th>\n",
       "      <th>Q50_Part_5</th>\n",
       "      <th>Q50_Part_6</th>\n",
       "      <th>Q50_Part_7</th>\n",
       "      <th>Q50_Part_8</th>\n",
       "      <th>Q50_OTHER_TEXT</th>\n",
       "      <th>index</th>\n",
       "    </tr>\n",
       "  </thead>\n",
       "  <tbody>\n",
       "    <tr>\n",
       "      <th>0</th>\n",
       "      <td>Duration (in seconds)</td>\n",
       "      <td>What is your gender? - Selected Choice</td>\n",
       "      <td>What is your gender? - Prefer to self-describe...</td>\n",
       "      <td>What is your age (# years)?</td>\n",
       "      <td>In which country do you currently reside?</td>\n",
       "      <td>What is the highest level of formal education ...</td>\n",
       "      <td>Which best describes your undergraduate major?...</td>\n",
       "      <td>Select the title most similar to your current ...</td>\n",
       "      <td>Select the title most similar to your current ...</td>\n",
       "      <td>In what industry is your current employer/cont...</td>\n",
       "      <td>...</td>\n",
       "      <td>What barriers prevent you from making your wor...</td>\n",
       "      <td>What barriers prevent you from making your wor...</td>\n",
       "      <td>What barriers prevent you from making your wor...</td>\n",
       "      <td>What barriers prevent you from making your wor...</td>\n",
       "      <td>What barriers prevent you from making your wor...</td>\n",
       "      <td>What barriers prevent you from making your wor...</td>\n",
       "      <td>What barriers prevent you from making your wor...</td>\n",
       "      <td>What barriers prevent you from making your wor...</td>\n",
       "      <td>What barriers prevent you from making your wor...</td>\n",
       "      <td>NaN</td>\n",
       "    </tr>\n",
       "    <tr>\n",
       "      <th>2</th>\n",
       "      <td>434</td>\n",
       "      <td>Male</td>\n",
       "      <td>-1</td>\n",
       "      <td>30-34</td>\n",
       "      <td>Indonesia</td>\n",
       "      <td>Bachelor’s degree</td>\n",
       "      <td>Engineering (non-computer focused)</td>\n",
       "      <td>Other</td>\n",
       "      <td>0</td>\n",
       "      <td>Manufacturing/Fabrication</td>\n",
       "      <td>...</td>\n",
       "      <td>NaN</td>\n",
       "      <td>NaN</td>\n",
       "      <td>NaN</td>\n",
       "      <td>NaN</td>\n",
       "      <td>NaN</td>\n",
       "      <td>NaN</td>\n",
       "      <td>NaN</td>\n",
       "      <td>NaN</td>\n",
       "      <td>-1</td>\n",
       "      <td>0.0</td>\n",
       "    </tr>\n",
       "    <tr>\n",
       "      <th>3</th>\n",
       "      <td>718</td>\n",
       "      <td>Female</td>\n",
       "      <td>-1</td>\n",
       "      <td>30-34</td>\n",
       "      <td>United States of America</td>\n",
       "      <td>Master’s degree</td>\n",
       "      <td>Computer science (software engineering, etc.)</td>\n",
       "      <td>Data Scientist</td>\n",
       "      <td>-1</td>\n",
       "      <td>I am a student</td>\n",
       "      <td>...</td>\n",
       "      <td>NaN</td>\n",
       "      <td>Too time-consuming</td>\n",
       "      <td>NaN</td>\n",
       "      <td>NaN</td>\n",
       "      <td>NaN</td>\n",
       "      <td>NaN</td>\n",
       "      <td>NaN</td>\n",
       "      <td>NaN</td>\n",
       "      <td>-1</td>\n",
       "      <td>1.0</td>\n",
       "    </tr>\n",
       "    <tr>\n",
       "      <th>5</th>\n",
       "      <td>731</td>\n",
       "      <td>Male</td>\n",
       "      <td>-1</td>\n",
       "      <td>22-24</td>\n",
       "      <td>India</td>\n",
       "      <td>Master’s degree</td>\n",
       "      <td>Mathematics or statistics</td>\n",
       "      <td>Data Analyst</td>\n",
       "      <td>-1</td>\n",
       "      <td>I am a student</td>\n",
       "      <td>...</td>\n",
       "      <td>NaN</td>\n",
       "      <td>Too time-consuming</td>\n",
       "      <td>NaN</td>\n",
       "      <td>NaN</td>\n",
       "      <td>Not enough incentives to share my work</td>\n",
       "      <td>NaN</td>\n",
       "      <td>NaN</td>\n",
       "      <td>NaN</td>\n",
       "      <td>-1</td>\n",
       "      <td>2.0</td>\n",
       "    </tr>\n",
       "    <tr>\n",
       "      <th>7</th>\n",
       "      <td>959</td>\n",
       "      <td>Male</td>\n",
       "      <td>-1</td>\n",
       "      <td>35-39</td>\n",
       "      <td>Chile</td>\n",
       "      <td>Doctoral degree</td>\n",
       "      <td>Information technology, networking, or system ...</td>\n",
       "      <td>Other</td>\n",
       "      <td>1</td>\n",
       "      <td>Academics/Education</td>\n",
       "      <td>...</td>\n",
       "      <td>Too expensive</td>\n",
       "      <td>NaN</td>\n",
       "      <td>NaN</td>\n",
       "      <td>NaN</td>\n",
       "      <td>NaN</td>\n",
       "      <td>I had never considered making my work easier f...</td>\n",
       "      <td>NaN</td>\n",
       "      <td>NaN</td>\n",
       "      <td>-1</td>\n",
       "      <td>3.0</td>\n",
       "    </tr>\n",
       "  </tbody>\n",
       "</table>\n",
       "<p>5 rows × 396 columns</p>\n",
       "</div>"
      ],
      "text/plain": [
       "  Time from Start to Finish (seconds)                                      Q1  \\\n",
       "0               Duration (in seconds)  What is your gender? - Selected Choice   \n",
       "2                                 434                                    Male   \n",
       "3                                 718                                  Female   \n",
       "5                                 731                                    Male   \n",
       "7                                 959                                    Male   \n",
       "\n",
       "                                       Q1_OTHER_TEXT  \\\n",
       "0  What is your gender? - Prefer to self-describe...   \n",
       "2                                                 -1   \n",
       "3                                                 -1   \n",
       "5                                                 -1   \n",
       "7                                                 -1   \n",
       "\n",
       "                            Q2                                         Q3  \\\n",
       "0  What is your age (# years)?  In which country do you currently reside?   \n",
       "2                        30-34                                  Indonesia   \n",
       "3                        30-34                   United States of America   \n",
       "5                        22-24                                      India   \n",
       "7                        35-39                                      Chile   \n",
       "\n",
       "                                                  Q4  \\\n",
       "0  What is the highest level of formal education ...   \n",
       "2                                  Bachelor’s degree   \n",
       "3                                    Master’s degree   \n",
       "5                                    Master’s degree   \n",
       "7                                    Doctoral degree   \n",
       "\n",
       "                                                  Q5  \\\n",
       "0  Which best describes your undergraduate major?...   \n",
       "2                 Engineering (non-computer focused)   \n",
       "3      Computer science (software engineering, etc.)   \n",
       "5                          Mathematics or statistics   \n",
       "7  Information technology, networking, or system ...   \n",
       "\n",
       "                                                  Q6  \\\n",
       "0  Select the title most similar to your current ...   \n",
       "2                                              Other   \n",
       "3                                     Data Scientist   \n",
       "5                                       Data Analyst   \n",
       "7                                              Other   \n",
       "\n",
       "                                       Q6_OTHER_TEXT  \\\n",
       "0  Select the title most similar to your current ...   \n",
       "2                                                  0   \n",
       "3                                                 -1   \n",
       "5                                                 -1   \n",
       "7                                                  1   \n",
       "\n",
       "                                                  Q7  ...  \\\n",
       "0  In what industry is your current employer/cont...  ...   \n",
       "2                          Manufacturing/Fabrication  ...   \n",
       "3                                     I am a student  ...   \n",
       "5                                     I am a student  ...   \n",
       "7                                Academics/Education  ...   \n",
       "\n",
       "                                          Q50_Part_1  \\\n",
       "0  What barriers prevent you from making your wor...   \n",
       "2                                                NaN   \n",
       "3                                                NaN   \n",
       "5                                                NaN   \n",
       "7                                      Too expensive   \n",
       "\n",
       "                                          Q50_Part_2  \\\n",
       "0  What barriers prevent you from making your wor...   \n",
       "2                                                NaN   \n",
       "3                                 Too time-consuming   \n",
       "5                                 Too time-consuming   \n",
       "7                                                NaN   \n",
       "\n",
       "                                          Q50_Part_3  \\\n",
       "0  What barriers prevent you from making your wor...   \n",
       "2                                                NaN   \n",
       "3                                                NaN   \n",
       "5                                                NaN   \n",
       "7                                                NaN   \n",
       "\n",
       "                                          Q50_Part_4  \\\n",
       "0  What barriers prevent you from making your wor...   \n",
       "2                                                NaN   \n",
       "3                                                NaN   \n",
       "5                                                NaN   \n",
       "7                                                NaN   \n",
       "\n",
       "                                          Q50_Part_5  \\\n",
       "0  What barriers prevent you from making your wor...   \n",
       "2                                                NaN   \n",
       "3                                                NaN   \n",
       "5             Not enough incentives to share my work   \n",
       "7                                                NaN   \n",
       "\n",
       "                                          Q50_Part_6  \\\n",
       "0  What barriers prevent you from making your wor...   \n",
       "2                                                NaN   \n",
       "3                                                NaN   \n",
       "5                                                NaN   \n",
       "7  I had never considered making my work easier f...   \n",
       "\n",
       "                                          Q50_Part_7  \\\n",
       "0  What barriers prevent you from making your wor...   \n",
       "2                                                NaN   \n",
       "3                                                NaN   \n",
       "5                                                NaN   \n",
       "7                                                NaN   \n",
       "\n",
       "                                          Q50_Part_8  \\\n",
       "0  What barriers prevent you from making your wor...   \n",
       "2                                                NaN   \n",
       "3                                                NaN   \n",
       "5                                                NaN   \n",
       "7                                                NaN   \n",
       "\n",
       "                                      Q50_OTHER_TEXT index  \n",
       "0  What barriers prevent you from making your wor...   NaN  \n",
       "2                                                 -1   0.0  \n",
       "3                                                 -1   1.0  \n",
       "5                                                 -1   2.0  \n",
       "7                                                 -1   3.0  \n",
       "\n",
       "[5 rows x 396 columns]"
      ]
     },
     "execution_count": 107,
     "metadata": {},
     "output_type": "execute_result"
    }
   ],
   "source": [
    "Salaries.head()"
   ]
  },
  {
   "cell_type": "markdown",
   "metadata": {},
   "source": [
    "Since question forms the first row, saving the survey answers in separate data-frame and questions in another data-frame"
   ]
  },
  {
   "cell_type": "code",
   "execution_count": 108,
   "metadata": {
    "colab": {},
    "colab_type": "code",
    "id": "nMUVNlZXamjE"
   },
   "outputs": [],
   "source": [
    "#separating Questions and answers in separate dataframe and the exporting to respective new csv file\n",
    "\n",
    "df1 = Salaries.iloc[0,:]\n",
    "df2 = Salaries.iloc[1:,:]\n",
    "df2.to_csv(\"Kaggle_Salary_data_clean_new.csv\")\n",
    "df1.to_csv('Kaggle_Survey_Questions.csv', header = True)"
   ]
  },
  {
   "cell_type": "code",
   "execution_count": 109,
   "metadata": {
    "colab": {},
    "colab_type": "code",
    "id": "3051isCAamjH"
   },
   "outputs": [],
   "source": [
    "#Further, two dataframes: answer dataframe- dfA and question dataframe dfQ, will be used for working\n",
    "\n",
    "dfA = pd.read_csv(\"Kaggle_Salary_data_clean_new.csv\", low_memory = False)\n",
    "dfQ = pd.read_csv(\"Kaggle_Survey_Questions.csv\", low_memory = False)"
   ]
  },
  {
   "cell_type": "markdown",
   "metadata": {
    "colab": {},
    "colab_type": "code",
    "id": "tPcR58HgamjL"
   },
   "source": [
    "# Part 1 & 2: Cleaning, EDA (Visualization) & Encoding\n",
    "\n",
    "Basic cleaning step involves the following:\n",
    "\n",
    "    - Eliminating few rows if time taken to finish survey is too less (here time < 120 seconds)\n",
    "    - Eliminating question if 2 or more questions are reduntant\n",
    "    - Eliminating features (questions) if they logically do not impact the yearly compensation\n",
    "    - Handling missing values\n",
    "\n",
    "Each question is preprocessed using methods of sklearn:\n",
    "\n",
    "    - Label Encoding\n",
    "    - One Hot Encoding"
   ]
  },
  {
   "cell_type": "code",
   "execution_count": 110,
   "metadata": {},
   "outputs": [],
   "source": [
    "#encoding functions\n",
    "\n",
    "#label Encoding\n",
    "def label_encode(col):\n",
    "    le = LabelEncoder()\n",
    "    encoded_col = le.fit_transform(col)\n",
    "    classes = le.classes_\n",
    "    return (encoded_col, classes)\n",
    "\n",
    "#one hot encoding\n",
    "\n",
    "def one_hot_encode(df, col):\n",
    "    (le_col, classes) = label_encode(col) #gives the number of categories and label encoded column\n",
    "    m = classes.size\n",
    "    #print(m)\n",
    "    n_features = le_col.shape[0]\n",
    "    \n",
    "    ohe =preprocessing.OneHotEncoder\n",
    "    ohe_ = ohe(categories = [range(m)]*n_features)\n",
    "    #print(ohe_)\n",
    "    col_ohe = ohe_.fit_transform([le_col]) #gives a sparse matrix\n",
    "    col_ohe_array = col_ohe.toarray().reshape(len((le_col)),-1).astype(int) # converting sparse matrix to array\n",
    "    columns_name = []\n",
    "    for i in classes:\n",
    "        str= col.name + ' '+ i\n",
    "        columns_name.append(str)\n",
    "    #print(columns_name)\n",
    "    col_ohe_encode = pd.DataFrame(col_ohe_array,columns=columns_name)\n",
    "    col_ohe_encode = col_ohe_encode.reset_index(drop = True)\n",
    "    df.reset_index(drop = True, inplace = True)\n",
    "    #print(col_ohe_encode.shape)\n",
    "    df= pd.concat([df, col_ohe_encode], sort = False, axis = 1)\n",
    "    \n",
    "    return df\n",
    "\n",
    "#function for nan removal and label encoding\n",
    "\n",
    "def remove_nan_label_encode(df, columns):\n",
    "  #print(columns)\n",
    "  for col in columns:\n",
    "    df[col].fillna(0, inplace = True)\n",
    "    df[col], _ = label_encode(df[col].astype(str))\n",
    "  return df"
   ]
  },
  {
   "cell_type": "code",
   "execution_count": 111,
   "metadata": {
    "colab": {
     "base_uri": "https://localhost:8080/",
     "height": 302
    },
    "colab_type": "code",
    "id": "w6fKQ1GvamjO",
    "outputId": "706990e2-c091-42f8-ea5c-b7b64dacee07"
   },
   "outputs": [
    {
     "name": "stdout",
     "output_type": "stream",
     "text": [
      "Instances with time less than  120  seconds is 137\n"
     ]
    }
   ],
   "source": [
    "\n",
    "#time based analysis\n",
    "count = 0\n",
    "a = []\n",
    "m = 120 \n",
    "for j,i in enumerate(dfA['Time from Start to Finish (seconds)']):\n",
    "    i = int(i)\n",
    "    if i <= 100:\n",
    "        count += 1        \n",
    "        a.append(dfA.loc[j, 'Q9'])\n",
    "    \n",
    "    \n",
    "print(\"Instances with time less than \", m, ' seconds is', count)\n",
    "\n",
    "t = np.array([[x,a.count(x)] for x in set(a)])\n",
    "#print(t)\n"
   ]
  },
  {
   "cell_type": "markdown",
   "metadata": {
    "colab": {},
    "colab_type": "code",
    "id": "th5e2cr4amjS"
   },
   "source": [
    "Since most of the instances do not contribute to high salary and time taken to fill the survey of questions is very less (practically not possible)\n",
    "Therefore, eliminating of such cases from data"
   ]
  },
  {
   "cell_type": "code",
   "execution_count": 112,
   "metadata": {
    "colab": {
     "base_uri": "https://localhost:8080/",
     "height": 34
    },
    "colab_type": "code",
    "id": "QcR9gTyJamjV",
    "outputId": "946ffa17-fc86-4344-c050-3e95d90ae7ea"
   },
   "outputs": [
    {
     "name": "stdout",
     "output_type": "stream",
     "text": [
      "(15144, 397)\n"
     ]
    }
   ],
   "source": [
    "row_index = dfA.loc[dfA['Time from Start to Finish (seconds)'] <= m].index\n",
    "\n",
    "dfA = dfA.drop(row_index, axis = 0)\n",
    "print(dfA.shape)\n",
    "\n",
    "#re - indexing dataframe\n",
    "dfA.loc[:,'index'] = dfA.reset_index()\n"
   ]
  },
  {
   "cell_type": "code",
   "execution_count": 113,
   "metadata": {},
   "outputs": [],
   "source": [
    "#dopping 'Time from Start to Finish (seconds)' column - as it does not have any relation with yearly compensation\n",
    "dfA.drop('Time from Start to Finish (seconds)', axis = 1, inplace = True)"
   ]
  },
  {
   "cell_type": "markdown",
   "metadata": {},
   "source": [
    "Analyze the number of people in various categories of salaries (our target variable)"
   ]
  },
  {
   "cell_type": "code",
   "execution_count": 114,
   "metadata": {},
   "outputs": [],
   "source": [
    "#Computing the average salary for each category e.g 0-10,000 saved as 5000\n",
    "compensation = dfA['Q9'].str.replace(',', '').str.replace('500000\\+', '500-500000').str.split('-')\n",
    "salary_numerical = compensation.apply(lambda x: (int(x[0]) * 1000 + int(x[1]))/ 2) / 1000 \n"
   ]
  },
  {
   "cell_type": "code",
   "execution_count": 115,
   "metadata": {},
   "outputs": [
    {
     "data": {
      "image/png": "[encoded data removed]",
      "text/plain": [
       "<Figure size 864x648 with 1 Axes>"
      ]
     },
     "metadata": {
      "needs_background": "light"
     },
     "output_type": "display_data"
    }
   ],
   "source": [
    "#plotting histogram\n",
    "\n",
    "plt.figure(figsize=(12, 9))\n",
    "ax = plt.subplot(111)  \n",
    "ax.spines[\"top\"].set_visible(False)  \n",
    "ax.spines[\"right\"].set_visible(False)\n",
    "plt.hist(salary_numerical,18, color=\"#3F5D7D\")   #18 bins because 18 categories\n",
    "plt.xlabel('Yearly compensation',fontsize = 16)\n",
    "plt.ylabel('#Response', fontsize = 16)\n",
    "plt.savefig(\"Salary vs responses\", bbox_inches=\"tight\")"
   ]
  },
  {
   "cell_type": "markdown",
   "metadata": {},
   "source": [
    "From plot, it is evident that maximum responses had salary 0-10,000 USD, let's find out which category corresponded to this salary the most.\n",
    "Q6 is about the current roles "
   ]
  },
  {
   "cell_type": "code",
   "execution_count": 116,
   "metadata": {},
   "outputs": [],
   "source": [
    "count = 0\n",
    "for i,j in enumerate(dfA.Q9):\n",
    "    if j == '0-10,000':\n",
    "        count +=1"
   ]
  },
  {
   "cell_type": "code",
   "execution_count": 117,
   "metadata": {},
   "outputs": [
    {
     "name": "stdout",
     "output_type": "stream",
     "text": [
      "Percentage of students in 0-10,000 bracket 44.57382394038193\n"
     ]
    }
   ],
   "source": [
    "dfA_2 = dfA[dfA['Q9'] == '0-10,000']\n",
    "a = dfA_2[dfA_2['Q6'] == 'Student']\n",
    "a.shape\n",
    "print('Percentage of students in 0-10,000 bracket', a.shape[0]/count*100)"
   ]
  },
  {
   "cell_type": "markdown",
   "metadata": {},
   "source": [
    "First 8 questions involve personal information of a person"
   ]
  },
  {
   "cell_type": "code",
   "execution_count": 118,
   "metadata": {},
   "outputs": [],
   "source": [
    "# Q1 (gender) --  'Prefer not to say' and 'Prefer to self-describe' categories and filling with most frequent \n",
    "#category (few values as compared to other categories)\n",
    "#dfA['Q1'].value_counts(dropna = False)"
   ]
  },
  {
   "cell_type": "code",
   "execution_count": 119,
   "metadata": {},
   "outputs": [],
   "source": [
    "dfA['Q1'].replace(to_replace = ['Prefer not to say', 'Prefer to self-describe'], value = dfA['Q1'].mode()[0], inplace = True)\n",
    "#dfA['Q1'].value_counts(dropna = False)"
   ]
  },
  {
   "cell_type": "code",
   "execution_count": 120,
   "metadata": {
    "colab": {
     "base_uri": "https://localhost:8080/",
     "height": 34
    },
    "colab_type": "code",
    "id": "91hIdXSvamjo",
    "outputId": "98bf321e-390b-447d-a2a6-6e5dc1886c21"
   },
   "outputs": [],
   "source": [
    "# label encoding Q1\n",
    "dfA['Q1'], _ = label_encode(dfA['Q1']) "
   ]
  },
  {
   "cell_type": "code",
   "execution_count": 121,
   "metadata": {
    "colab": {
     "base_uri": "https://localhost:8080/",
     "height": 235
    },
    "colab_type": "code",
    "id": "5wucAqiUamjv",
    "outputId": "b1879baf-3302-484b-c576-7fb1cd09b093"
   },
   "outputs": [],
   "source": [
    "#Q2 filling missing values check\n",
    "#dfA['Q2'].value_counts(dropna = False)"
   ]
  },
  {
   "cell_type": "code",
   "execution_count": 122,
   "metadata": {
    "colab": {},
    "colab_type": "code",
    "id": "_IPS-y3qcpJL"
   },
   "outputs": [],
   "source": [
    "#no nan values performing on-hot encoding on the data and dropping 'Q2' column\n",
    "dfA = one_hot_encode(dfA, dfA['Q2'])\n",
    "dfA.drop('Q2', axis = 1, inplace = True)"
   ]
  },
  {
   "cell_type": "code",
   "execution_count": 123,
   "metadata": {
    "colab": {
     "base_uri": "https://localhost:8080/",
     "height": 34
    },
    "colab_type": "code",
    "id": "aUkLvTPOct0p",
    "outputId": "9b61e895-6a66-462f-e5c0-5c7a36ceb7c6"
   },
   "outputs": [
    {
     "data": {
      "text/plain": [
       "(15144, 407)"
      ]
     },
     "execution_count": 123,
     "metadata": {},
     "output_type": "execute_result"
    }
   ],
   "source": [
    "dfA.shape"
   ]
  },
  {
   "cell_type": "code",
   "execution_count": 124,
   "metadata": {
    "colab": {
     "base_uri": "https://localhost:8080/",
     "height": 1000
    },
    "colab_type": "code",
    "id": "YJZCOXqMamj5",
    "outputId": "67eb88ed-bfe9-4998-96be-a794c5466301"
   },
   "outputs": [],
   "source": [
    "#checking the country data for missing values \n",
    "#dfA['Q3'].value_counts(dropna= False)"
   ]
  },
  {
   "cell_type": "code",
   "execution_count": 125,
   "metadata": {
    "colab": {},
    "colab_type": "code",
    "id": "Fx1O6UDRamkB"
   },
   "outputs": [],
   "source": [
    "# encoding country data and dropping Q3\n",
    "dfA = one_hot_encode(dfA, dfA['Q3'].astype(str))\n",
    "dfA.drop('Q3', axis = 1, inplace = True)"
   ]
  },
  {
   "cell_type": "code",
   "execution_count": 126,
   "metadata": {},
   "outputs": [
    {
     "data": {
      "image/png": "[encoded data removed]",
      "text/plain": [
       "<Figure size 720x720 with 1 Axes>"
      ]
     },
     "metadata": {
      "needs_background": "light"
     },
     "output_type": "display_data"
    }
   ],
   "source": [
    "#plt.figure(12,9)\n",
    "import seaborn as sb\n",
    "dims = (10,10)\n",
    "fig, ax = plt.subplots(figsize=dims)\n",
    "figure = sb.countplot(ax = ax, y = dfA['Q4'], hue = dfA['Q9'], data = dfA)\n",
    "plt.ylabel('Formal Education')\n",
    "plt.xlabel('count')\n",
    "plt.savefig(\"Formal Education\", bbox_inches=\"tight\")"
   ]
  },
  {
   "cell_type": "markdown",
   "metadata": {},
   "source": [
    "From the plot it is evident that for very high salary, either Doctoral/Master's degree is required or formal education won't make much difference in salary (i.e very few high salaries in all other cases)"
   ]
  },
  {
   "cell_type": "code",
   "execution_count": 128,
   "metadata": {},
   "outputs": [
    {
     "data": {
      "text/plain": [
       "0        15.0\n",
       "1         5.0\n",
       "2         5.0\n",
       "3        15.0\n",
       "4         5.0\n",
       "         ... \n",
       "15139     5.0\n",
       "15140     5.0\n",
       "15141    15.0\n",
       "15142    15.0\n",
       "15143    55.0\n",
       "Name: Salary_numerical, Length: 15144, dtype: float64"
      ]
     },
     "execution_count": 128,
     "metadata": {},
     "output_type": "execute_result"
    }
   ],
   "source": [
    "dfA['Salary_numerical'] = salary_numerical"
   ]
  },
  {
   "cell_type": "code",
   "execution_count": 129,
   "metadata": {},
   "outputs": [
    {
     "data": {
      "text/plain": [
       "Master’s degree                                                      7163\n",
       "Bachelor’s degree                                                    4289\n",
       "Doctoral degree                                                      2479\n",
       "Some college/university study without earning a bachelor’s degree     574\n",
       "Professional degree                                                   383\n",
       "No formal education past high school                                  129\n",
       "I prefer not to answer                                                127\n",
       "Name: Q4, dtype: int64"
      ]
     },
     "execution_count": 129,
     "metadata": {},
     "output_type": "execute_result"
    }
   ],
   "source": [
    "#Q4 filling missing values check\n",
    "dfA['Q4'].value_counts(dropna = False)"
   ]
  },
  {
   "cell_type": "code",
   "execution_count": 130,
   "metadata": {
    "colab": {
     "base_uri": "https://localhost:8080/",
     "height": 134
    },
    "colab_type": "code",
    "id": "XiLaKnJwamkF",
    "outputId": "b078156b-adc5-4396-b22c-67b6a3c92acc"
   },
   "outputs": [],
   "source": [
    "# no NaN answers but 'I prefer not to answer', since very few such cases, encode Q4 using one hot and \n",
    "#drop the 'Q4 I prefer not to answer' columns\n",
    "dfA = one_hot_encode(dfA, dfA['Q4'])\n",
    "dfA.drop(['Q4','Q4 I prefer not to answer'], axis = 1, inplace = True)"
   ]
  },
  {
   "cell_type": "code",
   "execution_count": null,
   "metadata": {},
   "outputs": [],
   "source": []
  },
  {
   "cell_type": "markdown",
   "metadata": {},
   "source": [
    "Dropping undergraduate major because it is related to Q4, Since undergraduate degreee does not matter much for high salary, this feature can be eliminated"
   ]
  },
  {
   "cell_type": "code",
   "execution_count": 133,
   "metadata": {
    "colab": {},
    "colab_type": "code",
    "id": "Zmw6FaQqamkJ"
   },
   "outputs": [],
   "source": [
    "#dfA['Q5'].value_counts(dropna = False)\n",
    "dfA.drop('Q5', axis = 1, inplace = True)"
   ]
  },
  {
   "cell_type": "code",
   "execution_count": 134,
   "metadata": {
    "colab": {},
    "colab_type": "code",
    "id": "QiW_Xz_bamkW"
   },
   "outputs": [],
   "source": [
    "dfA = one_hot_encode(dfA, dfA['Q6'])\n",
    "dfA.drop('Q6', axis = 1, inplace = True)\n"
   ]
  },
  {
   "cell_type": "code",
   "execution_count": 135,
   "metadata": {},
   "outputs": [
    {
     "data": {
      "image/png": "[encoded data removed]",
      "text/plain": [
       "<Figure size 720x720 with 1 Axes>"
      ]
     },
     "metadata": {
      "needs_background": "light"
     },
     "output_type": "display_data"
    }
   ],
   "source": [
    "dims = (10,10)\n",
    "fig, ax = plt.subplots(figsize=dims)\n",
    "figure = sb.countplot(ax = ax, y = dfA['Q7'], hue = dfA['Q9'], data = dfA)\n",
    "plt.ylabel('Industry')\n",
    "plt.xlabel('count')\n",
    "plt.savefig(\"Industry\", bbox_inches=\"tight\")"
   ]
  },
  {
   "cell_type": "markdown",
   "metadata": {},
   "source": [
    "Almost all the industries have high salary categories, therefore it's better to take them all"
   ]
  },
  {
   "cell_type": "code",
   "execution_count": 136,
   "metadata": {
    "colab": {},
    "colab_type": "code",
    "id": "6M7U0OLlamkZ"
   },
   "outputs": [],
   "source": [
    "dfA = one_hot_encode(dfA, dfA['Q7'])\n",
    "dfA.drop('Q7', axis = 1, inplace = True)"
   ]
  },
  {
   "cell_type": "code",
   "execution_count": 137,
   "metadata": {
    "colab": {},
    "colab_type": "code",
    "id": "BPzMOf1valOb"
   },
   "outputs": [
    {
     "data": {
      "text/plain": [
       "(15144, 506)"
      ]
     },
     "execution_count": 137,
     "metadata": {},
     "output_type": "execute_result"
    }
   ],
   "source": [
    "dfA.shape"
   ]
  },
  {
   "cell_type": "code",
   "execution_count": 139,
   "metadata": {
    "colab": {},
    "colab_type": "code",
    "id": "Zc-SsNNXmAui"
   },
   "outputs": [],
   "source": [
    "#Q8 very few nan values, therefore one hot encoding and then dropping nan value\n",
    "dfA = one_hot_encode(dfA, dfA['Q8'].astype(str))\n",
    "dfA.drop(['Q8', 'Q8 nan'], axis = 1, inplace = True)\n"
   ]
  },
  {
   "cell_type": "code",
   "execution_count": 140,
   "metadata": {
    "colab": {
     "base_uri": "https://localhost:8080/",
     "height": 681
    },
    "colab_type": "code",
    "id": "04IiUXSpamkg",
    "outputId": "88836432-0042-4a29-e354-0aee05d7d9b6"
   },
   "outputs": [],
   "source": [
    "#dropping columns with 'other text' option\n",
    "dfA = dfA.drop(['Q1_OTHER_TEXT', 'Q6_OTHER_TEXT', 'Q7_OTHER_TEXT', 'Q11_OTHER_TEXT', 'Q12_OTHER_TEXT','Q13_OTHER_TEXT', 'Q14_OTHER_TEXT','Q15_OTHER_TEXT', 'Q16_OTHER_TEXT','Q17_OTHER_TEXT', 'Q18_OTHER_TEXT','Q19_OTHER_TEXT', 'Q20_OTHER_TEXT', 'Q21_OTHER_TEXT', 'Q22_OTHER_TEXT', 'Q27_OTHER_TEXT', 'Q28_OTHER_TEXT', 'Q29_OTHER_TEXT', 'Q30_OTHER_TEXT', 'Q31_OTHER_TEXT', 'Q33_OTHER_TEXT', 'Q34_OTHER_TEXT', 'Q35_OTHER_TEXT', 'Q36_OTHER_TEXT', 'Q37_OTHER_TEXT', 'Q38_OTHER_TEXT', 'Q42_OTHER_TEXT', 'Q49_OTHER_TEXT', 'Q50_OTHER_TEXT'], axis = 1   )\n"
   ]
  },
  {
   "cell_type": "code",
   "execution_count": 141,
   "metadata": {},
   "outputs": [],
   "source": [
    "#Q10 one hot encoding but removing nan column as very few (249 cases in aprox. 12000)\n",
    "dfA = one_hot_encode(dfA, dfA['Q10'].astype(str))\n",
    "dfA.drop(['Q10', 'Q10 nan'], axis = 1, inplace = True)"
   ]
  },
  {
   "cell_type": "code",
   "execution_count": null,
   "metadata": {
    "colab": {},
    "colab_type": "code",
    "id": "movWm7mc5guI"
   },
   "outputs": [],
   "source": []
  },
  {
   "cell_type": "code",
   "execution_count": 142,
   "metadata": {
    "colab": {
     "base_uri": "https://localhost:8080/",
     "height": 34
    },
    "colab_type": "code",
    "id": "x9T9u7vd6Aq9",
    "outputId": "215f9ded-eb0e-41ca-a1f7-e0bebe0d52d6"
   },
   "outputs": [],
   "source": [
    "# label encoding Q11\n",
    "columns = dfQ.iloc[14:21,0].to_list()\n",
    "dfA = remove_nan_label_encode(dfA, columns)"
   ]
  },
  {
   "cell_type": "markdown",
   "metadata": {},
   "source": [
    "Q12,Q13, Q14 are about the platforms people use for coding. Since any language/platform can be used (if you know how to code), salary will not depend on these"
   ]
  },
  {
   "cell_type": "code",
   "execution_count": 143,
   "metadata": {
    "colab": {
     "base_uri": "https://localhost:8080/",
     "height": 54
    },
    "colab_type": "code",
    "id": "3HrYOXP2-T8A",
    "outputId": "65cb7b52-b8de-4b01-ac4d-ae794b62cc7e"
   },
   "outputs": [],
   "source": [
    "#dropping Q12 \n",
    "Q12_columns = dfQ.iloc[22:27,0].to_list()\n",
    "dfA.drop(Q12_columns, axis = 1, inplace = True)"
   ]
  },
  {
   "cell_type": "code",
   "execution_count": 144,
   "metadata": {
    "colab": {},
    "colab_type": "code",
    "id": "oxOdggJQ-Td3"
   },
   "outputs": [],
   "source": [
    "#dropping Q13\n",
    "Q13_columns = dfQ.iloc[29:44,0].to_list()\n",
    "dfA.drop(Q13_columns, axis =1, inplace = True)"
   ]
  },
  {
   "cell_type": "code",
   "execution_count": 145,
   "metadata": {
    "colab": {},
    "colab_type": "code",
    "id": "Mrr96UEI-TWv"
   },
   "outputs": [],
   "source": [
    "#dropping Q14\n",
    "Q14_columns = dfQ.iloc[45:56,0].to_list() \n",
    "dfA.drop(Q14_columns, axis =1, inplace = True)"
   ]
  },
  {
   "cell_type": "code",
   "execution_count": 146,
   "metadata": {
    "colab": {
     "base_uri": "https://localhost:8080/",
     "height": 34
    },
    "colab_type": "code",
    "id": "bHdwfR6U6jEB",
    "outputId": "3f6c096c-9111-4943-a350-071f026a9a65"
   },
   "outputs": [],
   "source": [
    "# label encoding Q15\n",
    "columns = dfQ.iloc[57:64,0].to_list()\n",
    "dfA = remove_nan_label_encode(dfA, columns)"
   ]
  },
  {
   "cell_type": "code",
   "execution_count": 147,
   "metadata": {
    "colab": {
     "base_uri": "https://localhost:8080/",
     "height": 54
    },
    "colab_type": "code",
    "id": "LNOkE8FgJwgr",
    "outputId": "732f2fec-df9b-4cd6-f848-979562b30753"
   },
   "outputs": [],
   "source": [
    "# label encoding Q16\n",
    "columns = dfQ.iloc[65:83,0].to_list()\n",
    "dfA = remove_nan_label_encode(dfA, columns)"
   ]
  },
  {
   "cell_type": "code",
   "execution_count": 148,
   "metadata": {
    "colab": {},
    "colab_type": "code",
    "id": "YI0focwzLmNX"
   },
   "outputs": [],
   "source": [
    "#one hot encoding for Q17\n",
    "dfA = one_hot_encode(dfA, dfA['Q17'].astype(str))\n",
    "dfA.drop('Q17', axis = 1, inplace =True)"
   ]
  },
  {
   "cell_type": "code",
   "execution_count": 149,
   "metadata": {
    "colab": {},
    "colab_type": "code",
    "id": "XXhZ53wYMI6H"
   },
   "outputs": [],
   "source": [
    "#one hot encoding for Q18\n",
    "dfA = one_hot_encode(dfA, dfA['Q18'].astype(str))\n",
    "dfA.drop('Q18', axis = 1, inplace =True)"
   ]
  },
  {
   "cell_type": "code",
   "execution_count": 150,
   "metadata": {
    "colab": {
     "base_uri": "https://localhost:8080/",
     "height": 54
    },
    "colab_type": "code",
    "id": "ALDjJke4JwbC",
    "outputId": "13f42a73-1956-465c-ee9f-044b357e9c1b"
   },
   "outputs": [],
   "source": [
    "# label encoding Q19\n",
    "columns = dfQ.iloc[88:107,0].to_list()\n",
    "dfA = remove_nan_label_encode(dfA, columns)"
   ]
  },
  {
   "cell_type": "markdown",
   "metadata": {},
   "source": [
    "Q20, Q22 is again related to programming language - ML libraries will change with language. This won't define salary as any language should be fine"
   ]
  },
  {
   "cell_type": "code",
   "execution_count": 151,
   "metadata": {
    "colab": {},
    "colab_type": "code",
    "id": "IiihlkkW-TQL"
   },
   "outputs": [],
   "source": [
    "#drop Q20\n",
    "Q20_columns = dfQ.iloc[108,0]\n",
    "dfA.drop(Q20_columns, axis =1, inplace = True)"
   ]
  },
  {
   "cell_type": "code",
   "execution_count": 152,
   "metadata": {
    "colab": {
     "base_uri": "https://localhost:8080/",
     "height": 54
    },
    "colab_type": "code",
    "id": "s2UWnWPwJwN_",
    "outputId": "6a5d8ea5-457c-4fa6-fdec-7d73e0a1f008"
   },
   "outputs": [],
   "source": [
    "# label encoding Q21\n",
    "columns = dfQ.iloc[110:123,0].to_list()\n",
    "dfA = remove_nan_label_encode(dfA, columns)"
   ]
  },
  {
   "cell_type": "code",
   "execution_count": 153,
   "metadata": {
    "colab": {},
    "colab_type": "code",
    "id": "TVsnWs3G-S7Q"
   },
   "outputs": [],
   "source": [
    "# drop Q22\n",
    "Q22_columns = dfQ.iloc[124,0]\n",
    "dfA.drop(Q22_columns, axis =1, inplace = True)"
   ]
  },
  {
   "cell_type": "code",
   "execution_count": 154,
   "metadata": {},
   "outputs": [],
   "source": [
    "#handling missing values in Q23 and using one hot encode\n",
    "#dfA['Q23'].value_counts(dropna = False)\n",
    "dfA['Q23'].fillna('nan', inplace = True)\n",
    "for i,t in enumerate(dfA['Q23']):\n",
    "    if t == 'nan':\n",
    "        new_val = dfA.loc[i-1,'Q23']\n",
    "        dfA.loc[i, 'Q23'] = new_val\n",
    "dfA['Q23'].value_counts(dropna = False)\n",
    "dfA = one_hot_encode(dfA, dfA['Q23'].astype(str))\n",
    "dfA.drop('Q23', axis = 1, inplace = True)"
   ]
  },
  {
   "cell_type": "code",
   "execution_count": 155,
   "metadata": {
    "colab": {},
    "colab_type": "code",
    "id": "OSd6L2W8XO4_"
   },
   "outputs": [],
   "source": [
    "#handling missing values in Q24 and using one hot encode\n",
    "#dfA['Q24'].value_counts(dropna = False)\n",
    "dfA['Q24'].fillna('nan', inplace = True)\n",
    "for i,t in enumerate(dfA['Q24']):\n",
    "    if t == 'nan':\n",
    "        new_val = dfA.loc[i-1,'Q24']\n",
    "        dfA.loc[i, 'Q24'] = new_val\n",
    "dfA = one_hot_encode(dfA, dfA['Q24'].astype(str))\n",
    "dfA.drop('Q24', axis = 1, inplace =True)"
   ]
  },
  {
   "cell_type": "markdown",
   "metadata": {},
   "source": [
    "Q25 is redundant with experience column so dropping it"
   ]
  },
  {
   "cell_type": "code",
   "execution_count": 156,
   "metadata": {
    "colab": {},
    "colab_type": "code",
    "id": "F5ILQMKK-S18"
   },
   "outputs": [],
   "source": [
    "#dropping Q25\n",
    "Q25_columns = dfQ.iloc[128,0]\n",
    "dfA.drop(Q25_columns, axis =1, inplace = True)"
   ]
  },
  {
   "cell_type": "code",
   "execution_count": 157,
   "metadata": {
    "colab": {},
    "colab_type": "code",
    "id": "l00vJFR9Jvu9"
   },
   "outputs": [],
   "source": [
    "#handling missing values in Q24 and using one hot encode\n",
    "#dfA['Q26'].value_counts(dropna = False)\n",
    "dfA['Q26'].fillna('nan', inplace = True)\n",
    "for i,t in enumerate(dfA['Q26']):\n",
    "    if t == 'nan':\n",
    "        new_val = dfA.loc[i-1,'Q26']\n",
    "        dfA.loc[i, 'Q26'] = new_val\n",
    "dfA = one_hot_encode(dfA, dfA['Q26'].astype(str))\n",
    "dfA.drop('Q26', axis = 1, inplace =True)"
   ]
  },
  {
   "cell_type": "markdown",
   "metadata": {},
   "source": [
    "Working platform does not matter and does not decide the skillset, therefore dropping Q27,28,29"
   ]
  },
  {
   "cell_type": "code",
   "execution_count": 158,
   "metadata": {
    "colab": {},
    "colab_type": "code",
    "id": "pbw0f6g7-Sw1"
   },
   "outputs": [],
   "source": [
    "Q27_columns = dfQ.iloc[130:150,0]\n",
    "#print(Q27_columns)\n",
    "dfA.drop(Q27_columns, axis =1, inplace = True)\n",
    "Q28_columns = dfQ.iloc[151:194,0]\n",
    "#print(Q28_columns)\n",
    "dfA.drop(Q28_columns, axis =1, inplace = True)\n",
    "Q29_columns = dfQ.iloc[195:223,0]\n",
    "#print(Q29_columns)\n",
    "dfA.drop(Q29_columns, axis =1, inplace = True)"
   ]
  },
  {
   "cell_type": "code",
   "execution_count": 159,
   "metadata": {
    "colab": {
     "base_uri": "https://localhost:8080/",
     "height": 54
    },
    "colab_type": "code",
    "id": "hmRN5ZhjRWxB",
    "outputId": "55e9b242-8699-4a9b-9da4-faa99ed0a61f"
   },
   "outputs": [],
   "source": [
    "# label encoding Q30\n",
    "columns = dfQ.iloc[224:249,0].to_list()\n",
    "dfA = remove_nan_label_encode(dfA, columns)"
   ]
  },
  {
   "cell_type": "code",
   "execution_count": 160,
   "metadata": {
    "colab": {
     "base_uri": "https://localhost:8080/",
     "height": 54
    },
    "colab_type": "code",
    "id": "vvvKfBAHRWi6",
    "outputId": "a2595783-9edd-4814-ee3e-0ec0da7b1b4a"
   },
   "outputs": [],
   "source": [
    "# label encoding Q31\n",
    "columns = dfQ.iloc[250:262,0].to_list()\n",
    "dfA = remove_nan_label_encode(dfA, columns)"
   ]
  },
  {
   "cell_type": "code",
   "execution_count": 166,
   "metadata": {},
   "outputs": [],
   "source": [
    "#dfA.Q32.value_counts(dropna = False)\n",
    "#dfA.Q33_Part_1.value_counts(dropna = False)\n",
    "#dfA.Q33_Part_10.value_counts(dropna = False)\n",
    "#dfA.Q34_Part_1.value_counts(dropna = False)\n",
    "#dfA.Q34_Part_4.value_counts(dropna = False)\n",
    "#dfA.Q35_Part_3.value_counts(dropna = False)\n",
    "#dfA.Q35_Part_5.value_counts(dropna = False)"
   ]
  },
  {
   "cell_type": "markdown",
   "metadata": {},
   "source": [
    "Q32, 34,33,35 have huge amount of NaN values which might lead to bias. Therefore removing them"
   ]
  },
  {
   "cell_type": "code",
   "execution_count": 167,
   "metadata": {
    "colab": {},
    "colab_type": "code",
    "id": "OlliXnq_-Snh"
   },
   "outputs": [],
   "source": [
    "Q32_columns = dfQ.iloc[263,0]\n",
    "#print(Q32_columns)\n",
    "dfA.drop(Q32_columns, axis =1, inplace = True)\n",
    "Q33_columns = dfQ.iloc[265:276,0]\n",
    "#print(Q33_columns)\n",
    "dfA.drop(Q33_columns, axis =1, inplace = True)\n",
    "Q34_columns = dfQ.iloc[277:283,0]\n",
    "#print(Q34_columns)\n",
    "dfA.drop(Q34_columns, axis =1, inplace = True)\n",
    "Q35_columns = dfQ.iloc[284:290,0]\n",
    "#print(Q35_columns)\n",
    "dfA.drop(Q35_columns, axis =1, inplace = True)"
   ]
  },
  {
   "cell_type": "code",
   "execution_count": 168,
   "metadata": {
    "colab": {
     "base_uri": "https://localhost:8080/",
     "height": 54
    },
    "colab_type": "code",
    "id": "Vcq366SSRWLD",
    "outputId": "95d0547c-eea9-4c8c-a609-70c33d0f330b"
   },
   "outputs": [],
   "source": [
    "# label encoding Q36\n",
    "columns = dfQ.iloc[291:304,0].to_list()\n",
    "dfA = remove_nan_label_encode(dfA, columns)"
   ]
  },
  {
   "cell_type": "code",
   "execution_count": 169,
   "metadata": {},
   "outputs": [],
   "source": [
    "Q37_columns = dfQ.iloc[305,0]\n",
    "#print(Q37_columns)\n",
    "dfA.drop(Q37_columns, axis =1, inplace = True)"
   ]
  },
  {
   "cell_type": "code",
   "execution_count": 170,
   "metadata": {},
   "outputs": [],
   "source": [
    "# label encoding Q38\n",
    "columns = dfQ.iloc[307:329,0].to_list()\n",
    "dfA = remove_nan_label_encode(dfA, columns)"
   ]
  },
  {
   "cell_type": "code",
   "execution_count": 171,
   "metadata": {},
   "outputs": [],
   "source": [
    "Q39_columns = dfQ.iloc[330:332,0]\n",
    "#print(Q39_columns)\n",
    "dfA.drop(Q39_columns, axis =1, inplace = True)"
   ]
  },
  {
   "cell_type": "code",
   "execution_count": 172,
   "metadata": {},
   "outputs": [],
   "source": [
    "dfA['Q40'].value_counts(dropna = False)\n",
    "#40% data is nan, therefore dropping this column\n",
    "dfA.drop('Q40', axis = 1 , inplace = True)"
   ]
  },
  {
   "cell_type": "markdown",
   "metadata": {},
   "source": [
    "Questions Q40, 43, 44, 45 have NaNs for majority sample. So dropping them"
   ]
  },
  {
   "cell_type": "code",
   "execution_count": 173,
   "metadata": {},
   "outputs": [],
   "source": [
    "Q41_columns = dfQ.iloc[333:336,0]\n",
    "#print(Q41_columns)\n",
    "dfA.drop(Q41_columns, axis =1, inplace = True)"
   ]
  },
  {
   "cell_type": "code",
   "execution_count": 174,
   "metadata": {},
   "outputs": [],
   "source": [
    "# label encoding Q42\n",
    "columns = dfQ.iloc[336:340,0].to_list()\n",
    "dfA = remove_nan_label_encode(dfA, columns)"
   ]
  },
  {
   "cell_type": "code",
   "execution_count": 175,
   "metadata": {
    "colab": {},
    "colab_type": "code",
    "id": "3RI50Y6zEEHU"
   },
   "outputs": [],
   "source": [
    "Q43_columns = dfQ.iloc[342,0]\n",
    "#print(Q43_columns)\n",
    "dfA.drop(Q43_columns, axis =1, inplace = True)\n",
    "Q44_columns = dfQ.iloc[343:349,0]\n",
    "#print(Q44_columns)\n",
    "dfA.drop(Q44_columns, axis =1, inplace = True)\n",
    "Q45_columns = dfQ.iloc[349:355,0]\n",
    "#print(Q45_columns)\n",
    "dfA.drop(Q45_columns, axis =1, inplace = True)\n",
    "Q46_columns = dfQ.iloc[355,0]\n",
    "#print(Q46_columns)\n",
    "dfA.drop(Q46_columns, axis =1, inplace = True)\n"
   ]
  },
  {
   "cell_type": "code",
   "execution_count": 176,
   "metadata": {},
   "outputs": [],
   "source": [
    "# label encoding Q47\n",
    "columns = dfQ.iloc[356:372,0].to_list()\n",
    "dfA = remove_nan_label_encode(dfA, columns)"
   ]
  },
  {
   "cell_type": "code",
   "execution_count": 177,
   "metadata": {
    "colab": {},
    "colab_type": "code",
    "id": "F0rmFdpVS5hS"
   },
   "outputs": [],
   "source": [
    "#dfA['Q48'].value_counts(dropna = False)\n",
    "#more than 50% data is nan, therefore droppping column\n",
    "dfA.drop('Q48', axis = 1 , inplace = True)\n"
   ]
  },
  {
   "cell_type": "code",
   "execution_count": 178,
   "metadata": {
    "colab": {
     "base_uri": "https://localhost:8080/",
     "height": 54
    },
    "colab_type": "code",
    "id": "Phk4aVIIS5So",
    "outputId": "0f8f94e1-adec-4448-9ade-e6263efb03ed"
   },
   "outputs": [],
   "source": [
    "# label encoding Q49\n",
    "columns = dfQ.iloc[373:385,0].to_list()\n",
    "dfA = remove_nan_label_encode(dfA, columns)"
   ]
  },
  {
   "cell_type": "code",
   "execution_count": 179,
   "metadata": {},
   "outputs": [],
   "source": [
    "Q50_columns = dfQ.iloc[386:394,0]\n",
    "#print(Q50_columns)\n",
    "dfA.drop(Q50_columns, axis =1, inplace = True)"
   ]
  },
  {
   "cell_type": "code",
   "execution_count": 180,
   "metadata": {
    "colab": {
     "base_uri": "https://localhost:8080/",
     "height": 630
    },
    "colab_type": "code",
    "id": "GTFCloxAUiDr",
    "outputId": "6f8148f1-2ba6-4b3a-de7b-ab3ccfd30840"
   },
   "outputs": [
    {
     "data": {
      "text/html": [
       "<div>\n",
       "<style scoped>\n",
       "    .dataframe tbody tr th:only-of-type {\n",
       "        vertical-align: middle;\n",
       "    }\n",
       "\n",
       "    .dataframe tbody tr th {\n",
       "        vertical-align: top;\n",
       "    }\n",
       "\n",
       "    .dataframe thead th {\n",
       "        text-align: right;\n",
       "    }\n",
       "</style>\n",
       "<table border=\"1\" class=\"dataframe\">\n",
       "  <thead>\n",
       "    <tr style=\"text-align: right;\">\n",
       "      <th></th>\n",
       "      <th>Unnamed: 0</th>\n",
       "      <th>Q1</th>\n",
       "      <th>Q9</th>\n",
       "      <th>Q11_Part_1</th>\n",
       "      <th>Q11_Part_2</th>\n",
       "      <th>Q11_Part_3</th>\n",
       "      <th>Q11_Part_4</th>\n",
       "      <th>Q11_Part_5</th>\n",
       "      <th>Q11_Part_6</th>\n",
       "      <th>Q11_Part_7</th>\n",
       "      <th>...</th>\n",
       "      <th>Q24 40+ years</th>\n",
       "      <th>Q24 5-10 years</th>\n",
       "      <th>Q24 &lt; 1 year</th>\n",
       "      <th>Q24 I have never written code and I do not want to learn</th>\n",
       "      <th>Q24 I have never written code but I want to learn</th>\n",
       "      <th>Q26 Definitely not</th>\n",
       "      <th>Q26 Definitely yes</th>\n",
       "      <th>Q26 Maybe</th>\n",
       "      <th>Q26 Probably not</th>\n",
       "      <th>Q26 Probably yes</th>\n",
       "    </tr>\n",
       "  </thead>\n",
       "  <tbody>\n",
       "    <tr>\n",
       "      <th>0</th>\n",
       "      <td>2</td>\n",
       "      <td>1</td>\n",
       "      <td>10-20,000</td>\n",
       "      <td>0</td>\n",
       "      <td>0</td>\n",
       "      <td>0</td>\n",
       "      <td>0</td>\n",
       "      <td>0</td>\n",
       "      <td>1</td>\n",
       "      <td>0</td>\n",
       "      <td>...</td>\n",
       "      <td>0</td>\n",
       "      <td>0</td>\n",
       "      <td>0</td>\n",
       "      <td>0</td>\n",
       "      <td>1</td>\n",
       "      <td>1</td>\n",
       "      <td>0</td>\n",
       "      <td>0</td>\n",
       "      <td>0</td>\n",
       "      <td>0</td>\n",
       "    </tr>\n",
       "    <tr>\n",
       "      <th>1</th>\n",
       "      <td>3</td>\n",
       "      <td>0</td>\n",
       "      <td>0-10,000</td>\n",
       "      <td>1</td>\n",
       "      <td>0</td>\n",
       "      <td>0</td>\n",
       "      <td>0</td>\n",
       "      <td>0</td>\n",
       "      <td>0</td>\n",
       "      <td>0</td>\n",
       "      <td>...</td>\n",
       "      <td>0</td>\n",
       "      <td>1</td>\n",
       "      <td>0</td>\n",
       "      <td>0</td>\n",
       "      <td>0</td>\n",
       "      <td>0</td>\n",
       "      <td>1</td>\n",
       "      <td>0</td>\n",
       "      <td>0</td>\n",
       "      <td>0</td>\n",
       "    </tr>\n",
       "    <tr>\n",
       "      <th>2</th>\n",
       "      <td>5</td>\n",
       "      <td>1</td>\n",
       "      <td>0-10,000</td>\n",
       "      <td>0</td>\n",
       "      <td>0</td>\n",
       "      <td>0</td>\n",
       "      <td>0</td>\n",
       "      <td>0</td>\n",
       "      <td>0</td>\n",
       "      <td>1</td>\n",
       "      <td>...</td>\n",
       "      <td>0</td>\n",
       "      <td>1</td>\n",
       "      <td>0</td>\n",
       "      <td>0</td>\n",
       "      <td>0</td>\n",
       "      <td>0</td>\n",
       "      <td>0</td>\n",
       "      <td>1</td>\n",
       "      <td>0</td>\n",
       "      <td>0</td>\n",
       "    </tr>\n",
       "    <tr>\n",
       "      <th>3</th>\n",
       "      <td>7</td>\n",
       "      <td>1</td>\n",
       "      <td>10-20,000</td>\n",
       "      <td>0</td>\n",
       "      <td>0</td>\n",
       "      <td>0</td>\n",
       "      <td>0</td>\n",
       "      <td>0</td>\n",
       "      <td>1</td>\n",
       "      <td>0</td>\n",
       "      <td>...</td>\n",
       "      <td>0</td>\n",
       "      <td>0</td>\n",
       "      <td>1</td>\n",
       "      <td>0</td>\n",
       "      <td>0</td>\n",
       "      <td>0</td>\n",
       "      <td>0</td>\n",
       "      <td>0</td>\n",
       "      <td>1</td>\n",
       "      <td>0</td>\n",
       "    </tr>\n",
       "    <tr>\n",
       "      <th>4</th>\n",
       "      <td>8</td>\n",
       "      <td>1</td>\n",
       "      <td>0-10,000</td>\n",
       "      <td>0</td>\n",
       "      <td>1</td>\n",
       "      <td>0</td>\n",
       "      <td>0</td>\n",
       "      <td>0</td>\n",
       "      <td>0</td>\n",
       "      <td>0</td>\n",
       "      <td>...</td>\n",
       "      <td>0</td>\n",
       "      <td>0</td>\n",
       "      <td>1</td>\n",
       "      <td>0</td>\n",
       "      <td>0</td>\n",
       "      <td>0</td>\n",
       "      <td>0</td>\n",
       "      <td>0</td>\n",
       "      <td>1</td>\n",
       "      <td>0</td>\n",
       "    </tr>\n",
       "  </tbody>\n",
       "</table>\n",
       "<p>5 rows × 361 columns</p>\n",
       "</div>"
      ],
      "text/plain": [
       "   Unnamed: 0  Q1         Q9  Q11_Part_1  Q11_Part_2  Q11_Part_3  Q11_Part_4  \\\n",
       "0           2   1  10-20,000           0           0           0           0   \n",
       "1           3   0   0-10,000           1           0           0           0   \n",
       "2           5   1   0-10,000           0           0           0           0   \n",
       "3           7   1  10-20,000           0           0           0           0   \n",
       "4           8   1   0-10,000           0           1           0           0   \n",
       "\n",
       "   Q11_Part_5  Q11_Part_6  Q11_Part_7  ...  Q24 40+ years  Q24 5-10 years  \\\n",
       "0           0           1           0  ...              0               0   \n",
       "1           0           0           0  ...              0               1   \n",
       "2           0           0           1  ...              0               1   \n",
       "3           0           1           0  ...              0               0   \n",
       "4           0           0           0  ...              0               0   \n",
       "\n",
       "   Q24 < 1 year  Q24 I have never written code and I do not want to learn  \\\n",
       "0             0                                                  0          \n",
       "1             0                                                  0          \n",
       "2             0                                                  0          \n",
       "3             1                                                  0          \n",
       "4             1                                                  0          \n",
       "\n",
       "   Q24 I have never written code but I want to learn  Q26 Definitely not  \\\n",
       "0                                                  1                   1   \n",
       "1                                                  0                   0   \n",
       "2                                                  0                   0   \n",
       "3                                                  0                   0   \n",
       "4                                                  0                   0   \n",
       "\n",
       "   Q26 Definitely yes  Q26 Maybe  Q26 Probably not  Q26 Probably yes  \n",
       "0                   0          0                 0                 0  \n",
       "1                   1          0                 0                 0  \n",
       "2                   0          1                 0                 0  \n",
       "3                   0          0                 1                 0  \n",
       "4                   0          0                 1                 0  \n",
       "\n",
       "[5 rows x 361 columns]"
      ]
     },
     "execution_count": 180,
     "metadata": {},
     "output_type": "execute_result"
    }
   ],
   "source": [
    "dfA.head()"
   ]
  },
  {
   "cell_type": "code",
   "execution_count": 181,
   "metadata": {
    "colab": {},
    "colab_type": "code",
    "id": "GbFj0U7wUhUY"
   },
   "outputs": [],
   "source": [
    "#dropping extra columns\n",
    "dfA.drop(['Unnamed: 0','index', 'Salary_numerical'], axis = 1, inplace = True)"
   ]
  },
  {
   "cell_type": "code",
   "execution_count": 182,
   "metadata": {
    "colab": {},
    "colab_type": "code",
    "id": "KIzSKtW9UhHY"
   },
   "outputs": [],
   "source": [
    "#dfA.to_csv('Kaggle_check.csv')"
   ]
  },
  {
   "cell_type": "code",
   "execution_count": 183,
   "metadata": {},
   "outputs": [
    {
     "data": {
      "text/html": [
       "<div>\n",
       "<style scoped>\n",
       "    .dataframe tbody tr th:only-of-type {\n",
       "        vertical-align: middle;\n",
       "    }\n",
       "\n",
       "    .dataframe tbody tr th {\n",
       "        vertical-align: top;\n",
       "    }\n",
       "\n",
       "    .dataframe thead th {\n",
       "        text-align: right;\n",
       "    }\n",
       "</style>\n",
       "<table border=\"1\" class=\"dataframe\">\n",
       "  <thead>\n",
       "    <tr style=\"text-align: right;\">\n",
       "      <th></th>\n",
       "      <th>Q1</th>\n",
       "      <th>Q9</th>\n",
       "      <th>Q11_Part_1</th>\n",
       "      <th>Q11_Part_2</th>\n",
       "      <th>Q11_Part_3</th>\n",
       "      <th>Q11_Part_4</th>\n",
       "      <th>Q11_Part_5</th>\n",
       "      <th>Q11_Part_6</th>\n",
       "      <th>Q11_Part_7</th>\n",
       "      <th>Q12_Part_5_TEXT</th>\n",
       "      <th>...</th>\n",
       "      <th>Q24 40+ years</th>\n",
       "      <th>Q24 5-10 years</th>\n",
       "      <th>Q24 &lt; 1 year</th>\n",
       "      <th>Q24 I have never written code and I do not want to learn</th>\n",
       "      <th>Q24 I have never written code but I want to learn</th>\n",
       "      <th>Q26 Definitely not</th>\n",
       "      <th>Q26 Definitely yes</th>\n",
       "      <th>Q26 Maybe</th>\n",
       "      <th>Q26 Probably not</th>\n",
       "      <th>Q26 Probably yes</th>\n",
       "    </tr>\n",
       "  </thead>\n",
       "  <tbody>\n",
       "    <tr>\n",
       "      <th>0</th>\n",
       "      <td>1</td>\n",
       "      <td>10-20,000</td>\n",
       "      <td>0</td>\n",
       "      <td>0</td>\n",
       "      <td>0</td>\n",
       "      <td>0</td>\n",
       "      <td>0</td>\n",
       "      <td>1</td>\n",
       "      <td>0</td>\n",
       "      <td>-1</td>\n",
       "      <td>...</td>\n",
       "      <td>0</td>\n",
       "      <td>0</td>\n",
       "      <td>0</td>\n",
       "      <td>0</td>\n",
       "      <td>1</td>\n",
       "      <td>1</td>\n",
       "      <td>0</td>\n",
       "      <td>0</td>\n",
       "      <td>0</td>\n",
       "      <td>0</td>\n",
       "    </tr>\n",
       "    <tr>\n",
       "      <th>1</th>\n",
       "      <td>0</td>\n",
       "      <td>0-10,000</td>\n",
       "      <td>1</td>\n",
       "      <td>0</td>\n",
       "      <td>0</td>\n",
       "      <td>0</td>\n",
       "      <td>0</td>\n",
       "      <td>0</td>\n",
       "      <td>0</td>\n",
       "      <td>-1</td>\n",
       "      <td>...</td>\n",
       "      <td>0</td>\n",
       "      <td>1</td>\n",
       "      <td>0</td>\n",
       "      <td>0</td>\n",
       "      <td>0</td>\n",
       "      <td>0</td>\n",
       "      <td>1</td>\n",
       "      <td>0</td>\n",
       "      <td>0</td>\n",
       "      <td>0</td>\n",
       "    </tr>\n",
       "    <tr>\n",
       "      <th>2</th>\n",
       "      <td>1</td>\n",
       "      <td>0-10,000</td>\n",
       "      <td>0</td>\n",
       "      <td>0</td>\n",
       "      <td>0</td>\n",
       "      <td>0</td>\n",
       "      <td>0</td>\n",
       "      <td>0</td>\n",
       "      <td>1</td>\n",
       "      <td>-1</td>\n",
       "      <td>...</td>\n",
       "      <td>0</td>\n",
       "      <td>1</td>\n",
       "      <td>0</td>\n",
       "      <td>0</td>\n",
       "      <td>0</td>\n",
       "      <td>0</td>\n",
       "      <td>0</td>\n",
       "      <td>1</td>\n",
       "      <td>0</td>\n",
       "      <td>0</td>\n",
       "    </tr>\n",
       "    <tr>\n",
       "      <th>3</th>\n",
       "      <td>1</td>\n",
       "      <td>10-20,000</td>\n",
       "      <td>0</td>\n",
       "      <td>0</td>\n",
       "      <td>0</td>\n",
       "      <td>0</td>\n",
       "      <td>0</td>\n",
       "      <td>1</td>\n",
       "      <td>0</td>\n",
       "      <td>-1</td>\n",
       "      <td>...</td>\n",
       "      <td>0</td>\n",
       "      <td>0</td>\n",
       "      <td>1</td>\n",
       "      <td>0</td>\n",
       "      <td>0</td>\n",
       "      <td>0</td>\n",
       "      <td>0</td>\n",
       "      <td>0</td>\n",
       "      <td>1</td>\n",
       "      <td>0</td>\n",
       "    </tr>\n",
       "    <tr>\n",
       "      <th>4</th>\n",
       "      <td>1</td>\n",
       "      <td>0-10,000</td>\n",
       "      <td>0</td>\n",
       "      <td>1</td>\n",
       "      <td>0</td>\n",
       "      <td>0</td>\n",
       "      <td>0</td>\n",
       "      <td>0</td>\n",
       "      <td>0</td>\n",
       "      <td>-1</td>\n",
       "      <td>...</td>\n",
       "      <td>0</td>\n",
       "      <td>0</td>\n",
       "      <td>1</td>\n",
       "      <td>0</td>\n",
       "      <td>0</td>\n",
       "      <td>0</td>\n",
       "      <td>0</td>\n",
       "      <td>0</td>\n",
       "      <td>1</td>\n",
       "      <td>0</td>\n",
       "    </tr>\n",
       "  </tbody>\n",
       "</table>\n",
       "<p>5 rows × 358 columns</p>\n",
       "</div>"
      ],
      "text/plain": [
       "   Q1         Q9  Q11_Part_1  Q11_Part_2  Q11_Part_3  Q11_Part_4  Q11_Part_5  \\\n",
       "0   1  10-20,000           0           0           0           0           0   \n",
       "1   0   0-10,000           1           0           0           0           0   \n",
       "2   1   0-10,000           0           0           0           0           0   \n",
       "3   1  10-20,000           0           0           0           0           0   \n",
       "4   1   0-10,000           0           1           0           0           0   \n",
       "\n",
       "   Q11_Part_6  Q11_Part_7  Q12_Part_5_TEXT  ...  Q24 40+ years  \\\n",
       "0           1           0               -1  ...              0   \n",
       "1           0           0               -1  ...              0   \n",
       "2           0           1               -1  ...              0   \n",
       "3           1           0               -1  ...              0   \n",
       "4           0           0               -1  ...              0   \n",
       "\n",
       "   Q24 5-10 years  Q24 < 1 year  \\\n",
       "0               0             0   \n",
       "1               1             0   \n",
       "2               1             0   \n",
       "3               0             1   \n",
       "4               0             1   \n",
       "\n",
       "   Q24 I have never written code and I do not want to learn  \\\n",
       "0                                                  0          \n",
       "1                                                  0          \n",
       "2                                                  0          \n",
       "3                                                  0          \n",
       "4                                                  0          \n",
       "\n",
       "   Q24 I have never written code but I want to learn  Q26 Definitely not  \\\n",
       "0                                                  1                   1   \n",
       "1                                                  0                   0   \n",
       "2                                                  0                   0   \n",
       "3                                                  0                   0   \n",
       "4                                                  0                   0   \n",
       "\n",
       "   Q26 Definitely yes  Q26 Maybe  Q26 Probably not  Q26 Probably yes  \n",
       "0                   0          0                 0                 0  \n",
       "1                   1          0                 0                 0  \n",
       "2                   0          1                 0                 0  \n",
       "3                   0          0                 1                 0  \n",
       "4                   0          0                 1                 0  \n",
       "\n",
       "[5 rows x 358 columns]"
      ]
     },
     "execution_count": 183,
     "metadata": {},
     "output_type": "execute_result"
    }
   ],
   "source": [
    "dfA.head()"
   ]
  },
  {
   "cell_type": "code",
   "execution_count": 184,
   "metadata": {
    "colab": {},
    "colab_type": "code",
    "id": "-O0DN2lZUg6C"
   },
   "outputs": [],
   "source": [
    "target_data = dfA['Q9']"
   ]
  },
  {
   "cell_type": "code",
   "execution_count": 186,
   "metadata": {
    "colab": {},
    "colab_type": "code",
    "id": "eTHiNH8hUgvQ"
   },
   "outputs": [],
   "source": [
    "Binary_data = dfA.drop('Q9', axis = 1)"
   ]
  },
  {
   "cell_type": "markdown",
   "metadata": {},
   "source": [
    "Binary_data is the processed dataframe for further process"
   ]
  },
  {
   "cell_type": "code",
   "execution_count": 190,
   "metadata": {},
   "outputs": [
    {
     "data": {
      "text/html": [
       "<div>\n",
       "<style scoped>\n",
       "    .dataframe tbody tr th:only-of-type {\n",
       "        vertical-align: middle;\n",
       "    }\n",
       "\n",
       "    .dataframe tbody tr th {\n",
       "        vertical-align: top;\n",
       "    }\n",
       "\n",
       "    .dataframe thead th {\n",
       "        text-align: right;\n",
       "    }\n",
       "</style>\n",
       "<table border=\"1\" class=\"dataframe\">\n",
       "  <thead>\n",
       "    <tr style=\"text-align: right;\">\n",
       "      <th></th>\n",
       "      <th>Q1</th>\n",
       "      <th>Q11_Part_1</th>\n",
       "      <th>Q11_Part_2</th>\n",
       "      <th>Q11_Part_3</th>\n",
       "      <th>Q11_Part_4</th>\n",
       "      <th>Q11_Part_5</th>\n",
       "      <th>Q11_Part_6</th>\n",
       "      <th>Q11_Part_7</th>\n",
       "      <th>Q12_Part_5_TEXT</th>\n",
       "      <th>Q15_Part_1</th>\n",
       "      <th>...</th>\n",
       "      <th>Q24 40+ years</th>\n",
       "      <th>Q24 5-10 years</th>\n",
       "      <th>Q24 &lt; 1 year</th>\n",
       "      <th>Q24 I have never written code and I do not want to learn</th>\n",
       "      <th>Q24 I have never written code but I want to learn</th>\n",
       "      <th>Q26 Definitely not</th>\n",
       "      <th>Q26 Definitely yes</th>\n",
       "      <th>Q26 Maybe</th>\n",
       "      <th>Q26 Probably not</th>\n",
       "      <th>Q26 Probably yes</th>\n",
       "    </tr>\n",
       "  </thead>\n",
       "  <tbody>\n",
       "    <tr>\n",
       "      <th>0</th>\n",
       "      <td>1</td>\n",
       "      <td>0</td>\n",
       "      <td>0</td>\n",
       "      <td>0</td>\n",
       "      <td>0</td>\n",
       "      <td>0</td>\n",
       "      <td>1</td>\n",
       "      <td>0</td>\n",
       "      <td>-1</td>\n",
       "      <td>0</td>\n",
       "      <td>...</td>\n",
       "      <td>0</td>\n",
       "      <td>0</td>\n",
       "      <td>0</td>\n",
       "      <td>0</td>\n",
       "      <td>1</td>\n",
       "      <td>1</td>\n",
       "      <td>0</td>\n",
       "      <td>0</td>\n",
       "      <td>0</td>\n",
       "      <td>0</td>\n",
       "    </tr>\n",
       "    <tr>\n",
       "      <th>1</th>\n",
       "      <td>0</td>\n",
       "      <td>1</td>\n",
       "      <td>0</td>\n",
       "      <td>0</td>\n",
       "      <td>0</td>\n",
       "      <td>0</td>\n",
       "      <td>0</td>\n",
       "      <td>0</td>\n",
       "      <td>-1</td>\n",
       "      <td>0</td>\n",
       "      <td>...</td>\n",
       "      <td>0</td>\n",
       "      <td>1</td>\n",
       "      <td>0</td>\n",
       "      <td>0</td>\n",
       "      <td>0</td>\n",
       "      <td>0</td>\n",
       "      <td>1</td>\n",
       "      <td>0</td>\n",
       "      <td>0</td>\n",
       "      <td>0</td>\n",
       "    </tr>\n",
       "    <tr>\n",
       "      <th>2</th>\n",
       "      <td>1</td>\n",
       "      <td>0</td>\n",
       "      <td>0</td>\n",
       "      <td>0</td>\n",
       "      <td>0</td>\n",
       "      <td>0</td>\n",
       "      <td>0</td>\n",
       "      <td>1</td>\n",
       "      <td>-1</td>\n",
       "      <td>0</td>\n",
       "      <td>...</td>\n",
       "      <td>0</td>\n",
       "      <td>1</td>\n",
       "      <td>0</td>\n",
       "      <td>0</td>\n",
       "      <td>0</td>\n",
       "      <td>0</td>\n",
       "      <td>0</td>\n",
       "      <td>1</td>\n",
       "      <td>0</td>\n",
       "      <td>0</td>\n",
       "    </tr>\n",
       "    <tr>\n",
       "      <th>3</th>\n",
       "      <td>1</td>\n",
       "      <td>0</td>\n",
       "      <td>0</td>\n",
       "      <td>0</td>\n",
       "      <td>0</td>\n",
       "      <td>0</td>\n",
       "      <td>1</td>\n",
       "      <td>0</td>\n",
       "      <td>-1</td>\n",
       "      <td>1</td>\n",
       "      <td>...</td>\n",
       "      <td>0</td>\n",
       "      <td>0</td>\n",
       "      <td>1</td>\n",
       "      <td>0</td>\n",
       "      <td>0</td>\n",
       "      <td>0</td>\n",
       "      <td>0</td>\n",
       "      <td>0</td>\n",
       "      <td>1</td>\n",
       "      <td>0</td>\n",
       "    </tr>\n",
       "    <tr>\n",
       "      <th>4</th>\n",
       "      <td>1</td>\n",
       "      <td>0</td>\n",
       "      <td>1</td>\n",
       "      <td>0</td>\n",
       "      <td>0</td>\n",
       "      <td>0</td>\n",
       "      <td>0</td>\n",
       "      <td>0</td>\n",
       "      <td>-1</td>\n",
       "      <td>0</td>\n",
       "      <td>...</td>\n",
       "      <td>0</td>\n",
       "      <td>0</td>\n",
       "      <td>1</td>\n",
       "      <td>0</td>\n",
       "      <td>0</td>\n",
       "      <td>0</td>\n",
       "      <td>0</td>\n",
       "      <td>0</td>\n",
       "      <td>1</td>\n",
       "      <td>0</td>\n",
       "    </tr>\n",
       "  </tbody>\n",
       "</table>\n",
       "<p>5 rows × 357 columns</p>\n",
       "</div>"
      ],
      "text/plain": [
       "   Q1  Q11_Part_1  Q11_Part_2  Q11_Part_3  Q11_Part_4  Q11_Part_5  Q11_Part_6  \\\n",
       "0   1           0           0           0           0           0           1   \n",
       "1   0           1           0           0           0           0           0   \n",
       "2   1           0           0           0           0           0           0   \n",
       "3   1           0           0           0           0           0           1   \n",
       "4   1           0           1           0           0           0           0   \n",
       "\n",
       "   Q11_Part_7  Q12_Part_5_TEXT  Q15_Part_1  ...  Q24 40+ years  \\\n",
       "0           0               -1           0  ...              0   \n",
       "1           0               -1           0  ...              0   \n",
       "2           1               -1           0  ...              0   \n",
       "3           0               -1           1  ...              0   \n",
       "4           0               -1           0  ...              0   \n",
       "\n",
       "   Q24 5-10 years  Q24 < 1 year  \\\n",
       "0               0             0   \n",
       "1               1             0   \n",
       "2               1             0   \n",
       "3               0             1   \n",
       "4               0             1   \n",
       "\n",
       "   Q24 I have never written code and I do not want to learn  \\\n",
       "0                                                  0          \n",
       "1                                                  0          \n",
       "2                                                  0          \n",
       "3                                                  0          \n",
       "4                                                  0          \n",
       "\n",
       "   Q24 I have never written code but I want to learn  Q26 Definitely not  \\\n",
       "0                                                  1                   1   \n",
       "1                                                  0                   0   \n",
       "2                                                  0                   0   \n",
       "3                                                  0                   0   \n",
       "4                                                  0                   0   \n",
       "\n",
       "   Q26 Definitely yes  Q26 Maybe  Q26 Probably not  Q26 Probably yes  \n",
       "0                   0          0                 0                 0  \n",
       "1                   1          0                 0                 0  \n",
       "2                   0          1                 0                 0  \n",
       "3                   0          0                 1                 0  \n",
       "4                   0          0                 1                 0  \n",
       "\n",
       "[5 rows x 357 columns]"
      ]
     },
     "execution_count": 190,
     "metadata": {},
     "output_type": "execute_result"
    }
   ],
   "source": [
    "Binary_data.head()"
   ]
  },
  {
   "cell_type": "code",
   "execution_count": 356,
   "metadata": {},
   "outputs": [],
   "source": [
    "#Binary_data.to_csv('Kaggle_dummy.csv')"
   ]
  },
  {
   "cell_type": "code",
   "execution_count": 191,
   "metadata": {},
   "outputs": [],
   "source": [
    "target_data_le, _ = label_encode(target_data)\n",
    "#target_data_le = pd.DataFrame(target_data_le)\n",
    "#target_data_le.iloc[:,0].value_counts(dropna = False)"
   ]
  },
  {
   "cell_type": "code",
   "execution_count": 192,
   "metadata": {},
   "outputs": [],
   "source": [
    "#Q42_Part_5 has  string 'other' therefore removing it\n",
    "Binary_data.drop('Q42_Part_5', axis = 1, inplace = True)"
   ]
  },
  {
   "cell_type": "code",
   "execution_count": 195,
   "metadata": {},
   "outputs": [
    {
     "name": "stdout",
     "output_type": "stream",
     "text": [
      "Feature ranking:\n"
     ]
    }
   ],
   "source": [
    "from sklearn.ensemble import ExtraTreesClassifier\n",
    "\n",
    "forest = ExtraTreesClassifier(n_estimators=250,random_state=0)\n",
    "\n",
    "forest.fit(Binary_data, target_data)\n",
    "importances = forest.feature_importances_\n",
    "std = np.std([tree.feature_importances_ for tree in forest.estimators_], axis=0)\n",
    "indices = np.argsort(importances)[::-1]\n",
    "\n",
    "# Print the feature ranking\n",
    "print(\"Feature ranking:\")\n",
    "\n",
    "#for f in range(X.shape[1])print(\"%d. feature %d (%f)\" % (f + 1, indices[f], importances[indices[f]]))\n"
   ]
  },
  {
   "cell_type": "code",
   "execution_count": 197,
   "metadata": {},
   "outputs": [
    {
     "data": {
      "text/plain": [
       "0.01979067400439399"
      ]
     },
     "execution_count": 197,
     "metadata": {},
     "output_type": "execute_result"
    }
   ],
   "source": []
  },
  {
   "cell_type": "code",
   "execution_count": 212,
   "metadata": {},
   "outputs": [
    {
     "data": {
      "image/png": "[encoded data removed]",
      "text/plain": [
       "<Figure size 1440x720 with 1 Axes>"
      ]
     },
     "metadata": {
      "needs_background": "light"
     },
     "output_type": "display_data"
    }
   ],
   "source": [
    "# Plot the feature importances of the forest\n",
    "plt.figure(figsize = (20,10))\n",
    "plt.title(\"Feature importances\")\n",
    "plt.bar(range(Binary_data.shape[1]), importances[indices],\n",
    "       color=\"r\", yerr=std[indices], align=\"center\")\n",
    "#plt.xticks(range(Binary_data.shape[1]), indices)\n",
    "plt.xlim([-1, Binary_data.shape[1]])\n",
    "plt.ylim([-0,0.035])\n",
    "plt.xlabel('Feature')\n",
    "plt.ylabel('Importance Coefficient')\n",
    "plt.show()"
   ]
  },
  {
   "cell_type": "code",
   "execution_count": 211,
   "metadata": {},
   "outputs": [
    {
     "name": "stdout",
     "output_type": "stream",
     "text": [
      "Maximum importance coefficient is:  0.01979067400439399 at index [0]\n"
     ]
    }
   ],
   "source": [
    "max_importance = importances.max()\n",
    "index = np.where(max_importance)\n",
    "print(\"Maximum importance coefficient is: \", max_importance, \"at index\", index[0])"
   ]
  },
  {
   "cell_type": "markdown",
   "metadata": {},
   "source": [
    "The graph shows that of initial few features which involves personal data of samples is more important than the responses at the end of survey. The zoomed graph for few initial features shown below"
   ]
  },
  {
   "cell_type": "code",
   "execution_count": 217,
   "metadata": {},
   "outputs": [
    {
     "data": {
      "text/plain": [
       "numpy.ndarray"
      ]
     },
     "execution_count": 217,
     "metadata": {},
     "output_type": "execute_result"
    }
   ],
   "source": [
    "type(std)"
   ]
  },
  {
   "cell_type": "code",
   "execution_count": 219,
   "metadata": {},
   "outputs": [
    {
     "data": {
      "image/png": "[encoded data removed]",
      "text/plain": [
       "<Figure size 1440x720 with 1 Axes>"
      ]
     },
     "metadata": {
      "needs_background": "light"
     },
     "output_type": "display_data"
    }
   ],
   "source": [
    "plt.figure(figsize = (20,10))\n",
    "plt.title(\"Feature importances\")\n",
    "plt.bar(range(20), importances[0:20],\n",
    "       color=\"r\", yerr=std[0:20], align=\"center\")\n",
    "#plt.xticks(range(Binary_data.shape[1]), indices)\n",
    "plt.xlim([-1, 22])\n",
    "plt.ylim([-0,0.02])\n",
    "plt.xlabel('Feature')\n",
    "plt.ylabel('Importance Coefficient')\n",
    "plt.show()"
   ]
  },
  {
   "cell_type": "markdown",
   "metadata": {},
   "source": [
    "# Part 3 Feature Selection\n",
    "\n",
    "While few features have been removed during cleaning, we still have a features corresponding to approx 25 questions which have been further encoded\n",
    "\n",
    "How Feature Engineering is useful too?\n",
    "Feature Engineering is constructing new variables to train ML model. Advantages of FE are:\n",
    "1. Simple models can work well with help of feature engineering. Hence, flexibility on choosing a model\n",
    "2. Lesser time to find the best model which is based on some metric (accuracy, precision, recall)\n",
    "    Therefore, dataset with engineered features are less computationally expensive to work with\n",
    "\n",
    "Feature Selection is converting data with too many features into a manageable data before training a model\n",
    "\n",
    "Why Lasso regression?\n",
    "Of all the regression models, LASSO seems to perform better when it comes to feature selection. LASSO penalizes the l1 norm of the weights, due to which coefficients of many features are forced to be zero. Thus, relevant features are allowed to have non zero weights. The degree of sparsity is controlled by the penality term.\n"
   ]
  },
  {
   "cell_type": "code",
   "execution_count": 220,
   "metadata": {},
   "outputs": [],
   "source": [
    "#score validation for alpha value alpha = 0.05, 0.1, 1\n",
    "#clf = linear_model.Lasso(alpha = 0.05)\n",
    "#clf.fit(Binary_data, target_data_le)\n",
    "#s = clf.score(Binary_data, target_data)"
   ]
  },
  {
   "cell_type": "code",
   "execution_count": 221,
   "metadata": {},
   "outputs": [],
   "source": [
    "#Lasso regression with hyperparameter alpha = 0.05 (chosen based on best score)\n",
    "clf = linear_model.Lasso(alpha = 0.05)\n",
    "clf.fit(Binary_data, target_data_le)\n",
    "coeff = clf.coef_\n",
    "index = []\n",
    "coeff_index = []\n",
    "\n",
    "for i,j in enumerate(coeff):\n",
    "    if j != 0:\n",
    "        index.append(i)\n",
    "        coeff_index.append(j)"
   ]
  },
  {
   "cell_type": "markdown",
   "metadata": {},
   "source": [
    "# Considering features with non zero coefficients"
   ]
  },
  {
   "cell_type": "code",
   "execution_count": 222,
   "metadata": {
    "colab": {},
    "colab_type": "code",
    "id": "i3Yw6RweJvhi"
   },
   "outputs": [],
   "source": [
    "Binary_data = Binary_data.iloc[:, index]"
   ]
  },
  {
   "cell_type": "code",
   "execution_count": 223,
   "metadata": {},
   "outputs": [
    {
     "data": {
      "text/plain": [
       "(15144, 42)"
      ]
     },
     "execution_count": 223,
     "metadata": {},
     "output_type": "execute_result"
    }
   ],
   "source": [
    "Binary_data.shape"
   ]
  },
  {
   "cell_type": "markdown",
   "metadata": {},
   "source": [
    "With feature selection, the number of features have reduced to 42 and can be used for logistic regression\n",
    "\n",
    "Splitting the data into training set and testing set"
   ]
  },
  {
   "cell_type": "code",
   "execution_count": 224,
   "metadata": {},
   "outputs": [],
   "source": [
    "X_train, X_test, y_train, y_test = train_test_split(Binary_data, target_data, random_state=42, test_size=0.3)"
   ]
  },
  {
   "cell_type": "markdown",
   "metadata": {},
   "source": [
    "# Logistic Regression Using Cross Validation"
   ]
  },
  {
   "cell_type": "code",
   "execution_count": 254,
   "metadata": {},
   "outputs": [],
   "source": [
    "def Logistic_Reg(c, X_train, y_train):\n",
    "    model = LogisticRegression(C = c,solver='saga', max_iter = 2500, multi_class='ovr' )\n",
    "    scaler = StandardScaler()\n",
    "    kfold = KFold(n_splits=10)\n",
    "    kfold.get_n_splits(X_train)\n",
    "\n",
    "    accuracy = np.zeros(10)\n",
    "    np_idx = 0\n",
    "\n",
    "    for train_idx, test_idx in kfold.split(X_train):\n",
    "        X_train_cv, X_test_cv = X_train.values[train_idx], X_train.values[test_idx]\n",
    "        y_train_cv, y_test_cv = y_train.values[train_idx], y_train.values[test_idx]\n",
    "    \n",
    "        X_train_cv = scaler.fit_transform(X_train_cv)\n",
    "        X_test_cv = scaler.transform(X_test_cv)\n",
    "    \n",
    "        model.fit(X_train_cv, y_train_cv)\n",
    "    \n",
    "        predictions = model.predict(X_test_cv)\n",
    "        acc = model.score(X_test_cv, y_test_cv)\n",
    "           \n",
    "        accuracy[np_idx] = acc*100\n",
    "        np_idx += 1\n",
    "        \n",
    "        #print (\"Fold {}: Accuracy: {}%\".format(np_idx, round(ACC,3)))   \n",
    "\n",
    "    print (\"For model with C = \", c, \"Average Score: {}%({}%)\".format(round(np.mean(accuracy),3),round(np.std(accuracy),3)))\n",
    "    return model, accuracy"
   ]
  },
  {
   "cell_type": "code",
   "execution_count": 255,
   "metadata": {},
   "outputs": [],
   "source": [
    "import warnings\n",
    "warnings.filterwarnings(\"ignore\", category=DataConversionWarning)\n",
    "warnings.filterwarnings(\"ignore\", category=ConvergenceWarning)"
   ]
  },
  {
   "cell_type": "code",
   "execution_count": 256,
   "metadata": {},
   "outputs": [
    {
     "name": "stdout",
     "output_type": "stream",
     "text": [
      "For model with C =  1 Average Score: 33.849%(1.102%)\n"
     ]
    }
   ],
   "source": [
    "m1, accuracy1 = Logistic_Reg(1,X_train, y_train)"
   ]
  },
  {
   "cell_type": "code",
   "execution_count": 257,
   "metadata": {},
   "outputs": [],
   "source": [
    "accuracy_test = []   #accuracy of training set and test se\n",
    "accuracy_cv = []     #accuracy from cross validation"
   ]
  },
  {
   "cell_type": "code",
   "execution_count": 258,
   "metadata": {},
   "outputs": [],
   "source": [
    "y_pred1 = m1.predict(X_test)\n",
    "prob_1 = m1.predict_proba(X_test)\n",
    "\n",
    "accuracy_test1 = m1.score(X_test, y_test)*100\n",
    "\n",
    "accuracy_test.append(accuracy_test1)\n",
    "accuracy_cv.append(accuracy1.mean())\n"
   ]
  },
  {
   "cell_type": "code",
   "execution_count": 259,
   "metadata": {},
   "outputs": [],
   "source": [
    "y_pred_train1 = m1.predict(X_train)\n",
    "prob_train1 = m1.predict_proba(X_train)"
   ]
  },
  {
   "cell_type": "code",
   "execution_count": 260,
   "metadata": {},
   "outputs": [],
   "source": [
    "from sklearn.metrics import log_loss\n",
    "train_logloss_1 = log_loss(y_train, prob_train1)\n",
    "test_logloss_1 = log_loss(y_test, prob_1)"
   ]
  },
  {
   "cell_type": "code",
   "execution_count": 261,
   "metadata": {},
   "outputs": [
    {
     "data": {
      "image/png": "[encoded data removed]",
      "text/plain": [
       "<Figure size 432x288 with 1 Axes>"
      ]
     },
     "metadata": {
      "needs_background": "light"
     },
     "output_type": "display_data"
    }
   ],
   "source": [
    "#sb.distplot(prob_1, hist = True, bins = 18, color = 'darkblue',hist_kws={'edgecolor':'black'},kde_kws={'linewidth': 4})\n",
    "plt.bar(range(18),prob_1[1,:], width = 1)\n",
    "plt.xlabel('Class')\n",
    "plt.ylabel('Probability')\n",
    "plt.title('Probability for one testing sample for model m1')\n",
    "plt.xticks(range(18))\n",
    "plt.show()"
   ]
  },
  {
   "cell_type": "markdown",
   "metadata": {},
   "source": [
    "Model with hyperparameter c = 0.1"
   ]
  },
  {
   "cell_type": "code",
   "execution_count": 262,
   "metadata": {},
   "outputs": [
    {
     "name": "stdout",
     "output_type": "stream",
     "text": [
      "For model with C =  0.1 Average Score: 33.84%(1.035%)\n"
     ]
    }
   ],
   "source": [
    "m2, accuracy2 = Logistic_Reg(0.1, X_train, y_train)"
   ]
  },
  {
   "cell_type": "code",
   "execution_count": 263,
   "metadata": {},
   "outputs": [],
   "source": [
    "y_pred2 = m2.predict(X_test)\n",
    "prob_2 = m2.predict_proba(X_test)\n",
    "\n",
    "accuracy_test2 = m2.score(X_test, y_test)*100\n",
    "\n",
    "accuracy_test.append(accuracy_test2)\n",
    "accuracy_cv.append(accuracy2.mean())"
   ]
  },
  {
   "cell_type": "code",
   "execution_count": 264,
   "metadata": {},
   "outputs": [],
   "source": [
    "y_pred_train2 = m2.predict(X_train)\n",
    "prob_train2 = m2.predict_proba(X_train)"
   ]
  },
  {
   "cell_type": "code",
   "execution_count": 265,
   "metadata": {},
   "outputs": [],
   "source": [
    "train_logloss_2 = log_loss(y_train, prob_train2)\n",
    "test_logloss_2 = log_loss(y_test, prob_2)"
   ]
  },
  {
   "cell_type": "code",
   "execution_count": 266,
   "metadata": {},
   "outputs": [
    {
     "data": {
      "image/png": "[encoded data removed]",
      "text/plain": [
       "<Figure size 432x288 with 1 Axes>"
      ]
     },
     "metadata": {
      "needs_background": "light"
     },
     "output_type": "display_data"
    }
   ],
   "source": [
    "#sb.distplot(prob_1, hist = True, bins = 18, color = 'darkblue',hist_kws={'edgecolor':'black'},kde_kws={'linewidth': 4})\n",
    "plt.bar(range(18),prob_2[28,:], width = 1)\n",
    "plt.xlabel('Class')\n",
    "plt.ylabel('Probability')\n",
    "plt.title('Probability for one testing sample for model m2')\n",
    "plt.xticks(range(18))\n",
    "plt.show()"
   ]
  },
  {
   "cell_type": "markdown",
   "metadata": {},
   "source": [
    "Model with hyperparameter c = 0.001"
   ]
  },
  {
   "cell_type": "code",
   "execution_count": 267,
   "metadata": {},
   "outputs": [
    {
     "name": "stdout",
     "output_type": "stream",
     "text": [
      "For model with C =  0.001 Average Score: 32.038%(1.666%)\n"
     ]
    }
   ],
   "source": [
    "m3, accuracy3 = Logistic_Reg(0.001, X_train, y_train)"
   ]
  },
  {
   "cell_type": "code",
   "execution_count": 268,
   "metadata": {},
   "outputs": [],
   "source": [
    "y_pred3 = m3.predict(X_test)\n",
    "prob_3 = m3.predict_proba(X_test)\n",
    "\n",
    "accuracy_test3 = m3.score(X_test, y_test)*100\n",
    "\n",
    "accuracy_test.append(accuracy_test3)\n",
    "accuracy_cv.append(accuracy3.mean())"
   ]
  },
  {
   "cell_type": "code",
   "execution_count": 269,
   "metadata": {},
   "outputs": [],
   "source": [
    "y_pred_train3 = m3.predict(X_train)\n",
    "prob_train3 = m3.predict_proba(X_train)"
   ]
  },
  {
   "cell_type": "code",
   "execution_count": 270,
   "metadata": {},
   "outputs": [],
   "source": [
    "train_logloss_3 = log_loss(y_train, prob_train3)\n",
    "test_logloss_3 = log_loss(y_test, prob_3)"
   ]
  },
  {
   "cell_type": "code",
   "execution_count": 271,
   "metadata": {},
   "outputs": [
    {
     "data": {
      "image/png": "[encoded data removed]",
      "text/plain": [
       "<Figure size 432x288 with 1 Axes>"
      ]
     },
     "metadata": {
      "needs_background": "light"
     },
     "output_type": "display_data"
    }
   ],
   "source": [
    "#sb.distplot(prob_1, hist = True, bins = 18, color = 'darkblue',hist_kws={'edgecolor':'black'},kde_kws={'linewidth': 4})\n",
    "plt.bar(range(18),prob_3[78,:], width = 1)\n",
    "plt.xlabel('Class')\n",
    "plt.ylabel('Probability')\n",
    "plt.title('Probability for one testing sample for model m3')\n",
    "plt.xticks(range(18))\n",
    "plt.show()"
   ]
  },
  {
   "cell_type": "markdown",
   "metadata": {},
   "source": [
    "Model with hyperparameter c = 0.00001"
   ]
  },
  {
   "cell_type": "code",
   "execution_count": 272,
   "metadata": {},
   "outputs": [
    {
     "name": "stdout",
     "output_type": "stream",
     "text": [
      "For model with C =  1e-05 Average Score: 28.179%(1.396%)\n"
     ]
    }
   ],
   "source": [
    "m4, accuracy4 = Logistic_Reg(0.00001, X_train, y_train)"
   ]
  },
  {
   "cell_type": "code",
   "execution_count": 273,
   "metadata": {},
   "outputs": [],
   "source": [
    "y_pred4 = m4.predict(X_test)\n",
    "prob_4 = m4.predict_proba(X_test)\n",
    "\n",
    "accuracy_test4 = m4.score(X_test, y_test)*100\n",
    "\n",
    "accuracy_test.append(accuracy_test4)\n",
    "accuracy_cv.append(accuracy4.mean())"
   ]
  },
  {
   "cell_type": "code",
   "execution_count": 274,
   "metadata": {},
   "outputs": [],
   "source": [
    "y_pred_train4 = m4.predict(X_train)\n",
    "prob_train4 = m4.predict_proba(X_train)"
   ]
  },
  {
   "cell_type": "code",
   "execution_count": 275,
   "metadata": {},
   "outputs": [],
   "source": [
    "train_logloss_4 = log_loss(y_train, prob_train4)\n",
    "test_logloss_4 = log_loss(y_test, prob_4)"
   ]
  },
  {
   "cell_type": "code",
   "execution_count": 276,
   "metadata": {},
   "outputs": [
    {
     "data": {
      "image/png": "[encoded data removed]",
      "text/plain": [
       "<Figure size 432x288 with 1 Axes>"
      ]
     },
     "metadata": {
      "needs_background": "light"
     },
     "output_type": "display_data"
    }
   ],
   "source": [
    "#sb.distplot(prob_1, hist = True, bins = 18, color = 'darkblue',hist_kws={'edgecolor':'black'},kde_kws={'linewidth': 4})\n",
    "plt.bar(range(18),prob_4[101,:], width = 1)\n",
    "plt.xlabel('Class')\n",
    "plt.ylabel('Probability')\n",
    "plt.title('Probability for one testing sample for model m4')\n",
    "plt.xticks(range(18))\n",
    "plt.show()"
   ]
  },
  {
   "cell_type": "markdown",
   "metadata": {},
   "source": [
    "Model with hyperparameter c = 10"
   ]
  },
  {
   "cell_type": "code",
   "execution_count": 277,
   "metadata": {},
   "outputs": [
    {
     "name": "stdout",
     "output_type": "stream",
     "text": [
      "For model with C =  10 Average Score: 33.821%(1.103%)\n"
     ]
    }
   ],
   "source": [
    "m5, accuracy5 = Logistic_Reg(10, X_train, y_train)"
   ]
  },
  {
   "cell_type": "code",
   "execution_count": 278,
   "metadata": {},
   "outputs": [],
   "source": [
    "y_pred5 = m5.predict(X_test)\n",
    "prob_5 = m5.predict_proba(X_test)\n",
    "\n",
    "accuracy_test5 = m5.score(X_test, y_test)*100\n",
    "\n",
    "accuracy_test.append(accuracy_test5)\n",
    "accuracy_cv.append(accuracy5.mean())"
   ]
  },
  {
   "cell_type": "code",
   "execution_count": 279,
   "metadata": {},
   "outputs": [],
   "source": [
    "y_pred_train5 = m5.predict(X_train)\n",
    "prob_train5 = m5.predict_proba(X_train)"
   ]
  },
  {
   "cell_type": "code",
   "execution_count": 280,
   "metadata": {},
   "outputs": [],
   "source": [
    "train_logloss_5 = log_loss(y_train, prob_train5)\n",
    "test_logloss_5 = log_loss(y_test, prob_5)"
   ]
  },
  {
   "cell_type": "code",
   "execution_count": 281,
   "metadata": {},
   "outputs": [
    {
     "data": {
      "image/png": "[encoded data removed]",
      "text/plain": [
       "<Figure size 432x288 with 1 Axes>"
      ]
     },
     "metadata": {
      "needs_background": "light"
     },
     "output_type": "display_data"
    }
   ],
   "source": [
    "#sb.distplot(prob_1, hist = True, bins = 18, color = 'darkblue',hist_kws={'edgecolor':'black'},kde_kws={'linewidth': 4})\n",
    "plt.bar(range(18),prob_5[1,:], width = 1)\n",
    "plt.xlabel('Class')\n",
    "plt.ylabel('Probability')\n",
    "plt.title('Probability for one testing sample for model m5')\n",
    "plt.xticks(range(18))\n",
    "plt.show()"
   ]
  },
  {
   "cell_type": "markdown",
   "metadata": {},
   "source": [
    "Model with hyperparameter c = 100"
   ]
  },
  {
   "cell_type": "code",
   "execution_count": 282,
   "metadata": {},
   "outputs": [],
   "source": [
    "c_list = [1,0.1, 0.001, 0.00001,10]\n",
    "training_logloss = [train_logloss_1, train_logloss_2, train_logloss_3, train_logloss_4, train_logloss_5]\n",
    "testing_logloss = [test_logloss_1, test_logloss_2, test_logloss_3, test_logloss_4, test_logloss_5]\n",
    "accuracy_cv = [accuracy1.mean(), accuracy2.mean(), accuracy3.mean(), accuracy4.mean(), accuracy5.mean()]\n",
    "accuracy_test = [accuracy_test1, accuracy_test2, accuracy_test3, accuracy_test4, accuracy_test5]\n",
    "variance_cv = [(accuracy1.std())**2, (accuracy2.std())**2, (accuracy3.std())**2, (accuracy4.std())**2, (accuracy5.std())**2]\n",
    "\n",
    "summary_array = np.column_stack((accuracy_cv, variance_cv, accuracy_test,training_logloss, testing_logloss))"
   ]
  },
  {
   "cell_type": "code",
   "execution_count": 283,
   "metadata": {},
   "outputs": [],
   "source": [
    "summary = pd.DataFrame(data = summary_array, index = c_list, \n",
    "                       columns = ['accuracy_cv', 'variance_cv', 'accuracy_test','training_logloss','testing_logloss'])"
   ]
  },
  {
   "cell_type": "code",
   "execution_count": 288,
   "metadata": {},
   "outputs": [
    {
     "name": "stdout",
     "output_type": "stream",
     "text": [
      "Summary of the model for different c is: \n"
     ]
    },
    {
     "data": {
      "text/html": [
       "<div>\n",
       "<style scoped>\n",
       "    .dataframe tbody tr th:only-of-type {\n",
       "        vertical-align: middle;\n",
       "    }\n",
       "\n",
       "    .dataframe tbody tr th {\n",
       "        vertical-align: top;\n",
       "    }\n",
       "\n",
       "    .dataframe thead th {\n",
       "        text-align: right;\n",
       "    }\n",
       "</style>\n",
       "<table border=\"1\" class=\"dataframe\">\n",
       "  <thead>\n",
       "    <tr style=\"text-align: right;\">\n",
       "      <th></th>\n",
       "      <th>accuracy_cv</th>\n",
       "      <th>variance_cv</th>\n",
       "      <th>accuracy_test</th>\n",
       "      <th>training_logloss</th>\n",
       "      <th>testing_logloss</th>\n",
       "    </tr>\n",
       "  </thead>\n",
       "  <tbody>\n",
       "    <tr>\n",
       "      <th>1.00000</th>\n",
       "      <td>33.849057</td>\n",
       "      <td>1.215379</td>\n",
       "      <td>28.521127</td>\n",
       "      <td>2.371209</td>\n",
       "      <td>2.489926</td>\n",
       "    </tr>\n",
       "    <tr>\n",
       "      <th>0.10000</th>\n",
       "      <td>33.839623</td>\n",
       "      <td>1.071645</td>\n",
       "      <td>28.565141</td>\n",
       "      <td>2.350671</td>\n",
       "      <td>2.466560</td>\n",
       "    </tr>\n",
       "    <tr>\n",
       "      <th>0.00100</th>\n",
       "      <td>32.037736</td>\n",
       "      <td>2.777145</td>\n",
       "      <td>28.411092</td>\n",
       "      <td>2.323693</td>\n",
       "      <td>2.366846</td>\n",
       "    </tr>\n",
       "    <tr>\n",
       "      <th>0.00001</th>\n",
       "      <td>28.179245</td>\n",
       "      <td>1.949181</td>\n",
       "      <td>28.763204</td>\n",
       "      <td>2.383351</td>\n",
       "      <td>2.372392</td>\n",
       "    </tr>\n",
       "    <tr>\n",
       "      <th>10.00000</th>\n",
       "      <td>33.820755</td>\n",
       "      <td>1.216180</td>\n",
       "      <td>28.455106</td>\n",
       "      <td>2.386409</td>\n",
       "      <td>2.506454</td>\n",
       "    </tr>\n",
       "  </tbody>\n",
       "</table>\n",
       "</div>"
      ],
      "text/plain": [
       "          accuracy_cv  variance_cv  accuracy_test  training_logloss  \\\n",
       "1.00000     33.849057     1.215379      28.521127          2.371209   \n",
       "0.10000     33.839623     1.071645      28.565141          2.350671   \n",
       "0.00100     32.037736     2.777145      28.411092          2.323693   \n",
       "0.00001     28.179245     1.949181      28.763204          2.383351   \n",
       "10.00000    33.820755     1.216180      28.455106          2.386409   \n",
       "\n",
       "          testing_logloss  \n",
       "1.00000          2.489926  \n",
       "0.10000          2.466560  \n",
       "0.00100          2.366846  \n",
       "0.00001          2.372392  \n",
       "10.00000         2.506454  "
      ]
     },
     "metadata": {},
     "output_type": "display_data"
    }
   ],
   "source": [
    "print(\"Summary of the model for different c is: \")\n",
    "display(summary)"
   ]
  },
  {
   "cell_type": "markdown",
   "metadata": {},
   "source": [
    "From the tables and probability graphs above, following are the inferences:\n",
    "1. Models are not overfit\n",
    "    -Variance of accuracies of different folds is very low\n",
    "    -Comparing mean accuracy of cross validation (accuracy_cv) and test set accuracy, they are almost same. \n",
    "2. From probability of random samples in each model, it seems that model is biased towards low salary class (0-10,000 k).\n",
    "    However, it needs to be checked through various other methods"
   ]
  },
  {
   "cell_type": "markdown",
   "metadata": {},
   "source": [
    "# Error vs model complexity curve\n",
    "For each model, traning error and testing error is computed using log loss function and plotted against (log(1/c))"
   ]
  },
  {
   "cell_type": "code",
   "execution_count": 342,
   "metadata": {},
   "outputs": [
    {
     "name": "stdout",
     "output_type": "stream",
     "text": [
      "Model complexity axis: m5 (c = 10), m1(c = 1), m2 (c = 0.1), m3(c = 0.001) and m4 (c = 0.00001) respectively\n"
     ]
    },
    {
     "data": {
      "image/png": "[encoded data removed]",
      "text/plain": [
       "<Figure size 576x360 with 1 Axes>"
      ]
     },
     "metadata": {
      "needs_background": "light"
     },
     "output_type": "display_data"
    },
    {
     "data": {
      "text/plain": [
       "<Figure size 432x288 with 0 Axes>"
      ]
     },
     "metadata": {},
     "output_type": "display_data"
    }
   ],
   "source": [
    "import math\n",
    "u = [1,10,1000,100000,0.1] #1/c_list\n",
    "a = [math.log(y,10) for y in u]\n",
    "print(\"Model complexity axis: m5 (c = 10), m1(c = 1), m2 (c = 0.1), m3(c = 0.001) and m4 (c = 0.00001) respectively\")\n",
    "plt.figure(figsize = (8,5))\n",
    "plt.plot(a, training_logloss, 'bo', label = 'Train Error')\n",
    "plt.plot(a, testing_logloss, 'r+', label = 'Test Error')\n",
    "plt.xlabel('Model Complexity')\n",
    "plt.ylabel('Error (log loss)')\n",
    "plt.title('Errors vs model complexity')\n",
    "plt.legend()\n",
    "plt.show()\n",
    "plt.savefig(\"Error vs model complexity\", bbox_inches = 'tight')"
   ]
  },
  {
   "cell_type": "markdown",
   "metadata": {},
   "source": [
    "From the above curve, models m5 and m1 seems to have high bias - therefore can be underfit\n",
    "m4 has high variance among all (could be classified as overfit)\n",
    "m3 corresponding to c = 0.001 seems to be the optimum case"
   ]
  },
  {
   "cell_type": "markdown",
   "metadata": {},
   "source": [
    "# Part - 6 Optimal Model "
   ]
  },
  {
   "cell_type": "code",
   "execution_count": 310,
   "metadata": {},
   "outputs": [],
   "source": [
    "from sklearn.model_selection import GridSearchCV"
   ]
  },
  {
   "cell_type": "code",
   "execution_count": 311,
   "metadata": {},
   "outputs": [],
   "source": [
    "parameters = {'solver':['saga', 'newton-cg', 'lbfgs', 'sag'] }\n",
    "m_optimal = GridSearchCV(m3, parameters, cv = 5)"
   ]
  },
  {
   "cell_type": "code",
   "execution_count": 312,
   "metadata": {},
   "outputs": [
    {
     "data": {
      "text/plain": [
       "GridSearchCV(cv=5, error_score='raise-deprecating',\n",
       "             estimator=LogisticRegression(C=0.001, class_weight=None,\n",
       "                                          dual=False, fit_intercept=True,\n",
       "                                          intercept_scaling=1, l1_ratio=None,\n",
       "                                          max_iter=2500, multi_class='ovr',\n",
       "                                          n_jobs=None, penalty='l2',\n",
       "                                          random_state=None, solver='saga',\n",
       "                                          tol=0.0001, verbose=0,\n",
       "                                          warm_start=False),\n",
       "             iid='warn', n_jobs=None,\n",
       "             param_grid={'solver': ['saga', 'newton-cg', 'lbfgs', 'sag']},\n",
       "             pre_dispatch='2*n_jobs', refit=True, return_train_score=False,\n",
       "             scoring=None, verbose=0)"
      ]
     },
     "execution_count": 312,
     "metadata": {},
     "output_type": "execute_result"
    }
   ],
   "source": [
    "m_optimal.fit(X_train,y_train)"
   ]
  },
  {
   "cell_type": "code",
   "execution_count": 313,
   "metadata": {},
   "outputs": [
    {
     "data": {
      "text/plain": [
       "{'mean_fit_time': array([217.15127006,  12.44493237,   7.92993035, 159.21478629]),\n",
       " 'std_fit_time': array([3.44305172, 1.63238609, 2.16892662, 1.24938576]),\n",
       " 'mean_score_time': array([0.01178679, 0.01334491, 0.01247759, 0.02466745]),\n",
       " 'std_score_time': array([0.00803815, 0.01795231, 0.01845867, 0.02804869]),\n",
       " 'param_solver': masked_array(data=['saga', 'newton-cg', 'lbfgs', 'sag'],\n",
       "              mask=[False, False, False, False],\n",
       "        fill_value='?',\n",
       "             dtype=object),\n",
       " 'params': [{'solver': 'saga'},\n",
       "  {'solver': 'newton-cg'},\n",
       "  {'solver': 'lbfgs'},\n",
       "  {'solver': 'sag'}],\n",
       " 'split0_test_score': array([0.28242481, 0.28242481, 0.28242481, 0.28242481]),\n",
       " 'split1_test_score': array([0.2826905 , 0.28363123, 0.28363123, 0.28363123]),\n",
       " 'split2_test_score': array([0.28490566, 0.28490566, 0.28490566, 0.28490566]),\n",
       " 'split3_test_score': array([0.2833491 , 0.28382214, 0.28382214, 0.28382214]),\n",
       " 'split4_test_score': array([0.28361742, 0.28409091, 0.28409091, 0.28409091]),\n",
       " 'mean_test_score': array([0.28339623, 0.28377358, 0.28377358, 0.28377358]),\n",
       " 'std_test_score': array([0.00086902, 0.00080382, 0.00080382, 0.00080382]),\n",
       " 'rank_test_score': array([4, 1, 1, 1], dtype=int32)}"
      ]
     },
     "metadata": {},
     "output_type": "display_data"
    }
   ],
   "source": [
    "display(m_optimal.cv_results_)"
   ]
  },
  {
   "cell_type": "code",
   "execution_count": 314,
   "metadata": {},
   "outputs": [
    {
     "data": {
      "text/plain": [
       "{'solver': 'newton-cg'}"
      ]
     },
     "execution_count": 314,
     "metadata": {},
     "output_type": "execute_result"
    }
   ],
   "source": [
    "m_optimal.best_params_"
   ]
  },
  {
   "cell_type": "code",
   "execution_count": 315,
   "metadata": {},
   "outputs": [
    {
     "data": {
      "text/plain": [
       "<function sklearn.metrics.scorer._passthrough_scorer(estimator, *args, **kwargs)>"
      ]
     },
     "execution_count": 315,
     "metadata": {},
     "output_type": "execute_result"
    }
   ],
   "source": [
    "m_optimal.scorer_"
   ]
  },
  {
   "cell_type": "markdown",
   "metadata": {},
   "source": [
    "Thus the optimal solver for m3 (c = 0.001) is newton_cg/sag/lbfgs - All of them are ranked 1\n",
    "\n",
    "Now, using c = 0.001 and newton_cg for optimal model performance"
   ]
  },
  {
   "cell_type": "code",
   "execution_count": 317,
   "metadata": {},
   "outputs": [
    {
     "name": "stdout",
     "output_type": "stream",
     "text": [
      "For model with C =  0.001 Average Score: 32.038%(1.666%)\n"
     ]
    }
   ],
   "source": [
    "m_optimal_NCG, accuracy_NCG = Logistic_Reg(0.001, X_train, y_train)"
   ]
  },
  {
   "cell_type": "code",
   "execution_count": 318,
   "metadata": {},
   "outputs": [],
   "source": [
    "y_pred_NCG = m_optimal_NCG.predict(X_test)\n",
    "prob_NCG = m_optimal_NCG.predict_proba(X_test)\n",
    "\n",
    "accuracy_testNCG = m_optimal_NCG.score(X_test, y_test)*100\n"
   ]
  },
  {
   "cell_type": "code",
   "execution_count": 326,
   "metadata": {},
   "outputs": [
    {
     "data": {
      "image/png": "[encoded data removed]",
      "text/plain": [
       "<Figure size 432x288 with 1 Axes>"
      ]
     },
     "metadata": {
      "needs_background": "light"
     },
     "output_type": "display_data"
    },
    {
     "data": {
      "text/plain": [
       "<Figure size 432x288 with 0 Axes>"
      ]
     },
     "metadata": {},
     "output_type": "display_data"
    }
   ],
   "source": [
    "plt.bar(range(18),prob_NCG[98,:], width = 1)\n",
    "plt.xlabel('Class')\n",
    "plt.ylabel('Probability')\n",
    "plt.title('Probability for one testing sample for the optimal model ')\n",
    "plt.xticks(range(18))\n",
    "plt.show()\n",
    "plt.savefig(\"Probability for one testing sample for the optimal model\", bbox_inches=\"tight\")"
   ]
  },
  {
   "cell_type": "code",
   "execution_count": 331,
   "metadata": {},
   "outputs": [
    {
     "name": "stdout",
     "output_type": "stream",
     "text": [
      "Accuracy on testing set for optimal model:  28.411091549295776 %\n"
     ]
    }
   ],
   "source": [
    "print(\"Accuracy on testing set for optimal model: \", accuracy_testNCG, '%')"
   ]
  },
  {
   "cell_type": "code",
   "execution_count": 333,
   "metadata": {},
   "outputs": [],
   "source": [
    "y_pred_trainNCG = m_optimal_NCG.predict(X_train)\n",
    "prob_trainNCG = m_optimal_NCG.predict_proba(X_train)"
   ]
  },
  {
   "cell_type": "code",
   "execution_count": 334,
   "metadata": {},
   "outputs": [],
   "source": [
    "train_logloss_NCG = log_loss(y_train, prob_trainNCG)\n",
    "test_logloss_NCG = log_loss(y_test, prob_NCG)"
   ]
  },
  {
   "cell_type": "code",
   "execution_count": 335,
   "metadata": {},
   "outputs": [
    {
     "name": "stdout",
     "output_type": "stream",
     "text": [
      "Testing Error:  2.3668574798928743\n",
      "Training Error:  2.323700949572794\n"
     ]
    }
   ],
   "source": [
    "print('Testing Error: ', test_logloss_NCG)\n",
    "print('Training Error: ', train_logloss_NCG)"
   ]
  },
  {
   "cell_type": "code",
   "execution_count": 339,
   "metadata": {},
   "outputs": [],
   "source": [
    "from sklearn.model_selection import learning_curve\n",
    "def plot_learning_curve(estimator, title, X, y, ylim=None, cv=None, n_jobs=1,\\\n",
    "                        train_sizes=np.linspace(.1, 1.0, 5), scoring='accuracy'):\n",
    "    \n",
    "    plt.figure(figsize=(10,6))\n",
    "    plt.title(title)\n",
    "    \n",
    "    if ylim is not None:\n",
    "        plt.ylim(*ylim)\n",
    "        \n",
    "    plt.xlabel(\"Training examples\")\n",
    "    plt.ylabel(scoring)\n",
    "    \n",
    "    train_sizes, train_scores, test_scores = learning_curve(estimator, X, y, cv=cv, scoring=scoring, n_jobs=n_jobs, train_sizes=train_sizes)\n",
    "    train_scores_mean = np.mean(train_scores, axis=1)\n",
    "    train_scores_std = np.std(train_scores, axis=1)\n",
    "    test_scores_mean = np.mean(test_scores, axis=1)\n",
    "    test_scores_std = np.std(test_scores, axis=1)\n",
    "    \n",
    "    plt.grid()\n",
    "\n",
    "    plt.fill_between(train_sizes, train_scores_mean - train_scores_std,\\\n",
    "                     train_scores_mean + train_scores_std, alpha=0.1, \\\n",
    "                     color=\"r\")\n",
    "    plt.fill_between(train_sizes, test_scores_mean - test_scores_std,\\\n",
    "                     test_scores_mean + test_scores_std, alpha=0.1, color=\"g\")\n",
    "    \n",
    "    plt.plot(train_sizes, train_scores_mean, 'o-', color=\"r\",label=\"Training score\")\n",
    "    plt.plot(train_sizes, test_scores_mean, 'o-', color=\"g\", label=\"Cross-validation score\")\n",
    "    plt.legend(loc=\"best\")\n",
    "    \n",
    "    return plt"
   ]
  },
  {
   "cell_type": "markdown",
   "metadata": {},
   "source": [
    "Mean accuracy of cross_validation score is 28.37% and accuracy on training set is 28.41. Therefore, the model is not overfit.\n",
    "\n",
    "The accuracy is not good, therefore it is not a good model. It may be due to dropping of relevant features which could have affected accuracy.\n",
    "Accuracy could be further increased by using better feature selection and performing feature engineering.\n",
    "\n",
    "While we can say the model is not overfit through variance. Variance refers to how much the model is dependent on the training data.\n",
    "High Bias and low variance means the model is underfit."
   ]
  }
 ],
 "metadata": {
  "colab": {
   "collapsed_sections": [],
   "name": "Assignment1.ipynb",
   "provenance": []
  },
  "kernelspec": {
   "display_name": "Python",
   "language": "python",
   "name": "conda-env-python-py"
  },
  "language_info": {
   "codemirror_mode": {
    "name": "ipython",
    "version": 3
   },
   "file_extension": ".py",
   "mimetype": "text/x-python",
   "name": "python",
   "nbconvert_exporter": "python",
   "pygments_lexer": "ipython3",
   "version": "3.6.7"
  }
 },
 "nbformat": 4,
 "nbformat_minor": 4
}
